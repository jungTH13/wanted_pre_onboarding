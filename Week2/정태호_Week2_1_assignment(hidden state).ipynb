{
  "cells": [
    {
      "cell_type": "markdown",
      "metadata": {
        "id": "Hg3yVV-zjev_"
      },
      "source": [
        "# Week2_1 Assignment\n",
        "\n",
        "# [BASIC](#Basic)\n",
        "- BERT 모델의 hidden state에서 **특정 단어의 embedding을 여러 방식으로 추출 및 생성**할 수 있다.\n",
        "\n",
        "# [CHALLENGE](#Challenge)\n",
        "- **cosine similarity 함수를 구현**할 수 있다. \n",
        "- **단어들의 유사도**를 cosine similarity로 비교할 수 있다. \n",
        "\n",
        "# [ADVANCED](#Advanced)\n",
        "- 문장 embedding을 구해 **문장 간 유사도**를 구할 수 있다.\n",
        "\n",
        "### Reference\n",
        "- [BERT word embedding & sentence embedding tutorial 영문 블로그](https://mccormickml.com/2019/05/14/BERT-word-embeddings-tutorial/#33-creating-word-and-sentence-vectors-from-hidden-states)"
      ]
    },
    {
      "cell_type": "code",
      "execution_count": null,
      "metadata": {
        "id": "audBCE5fjSMC"
      },
      "outputs": [],
      "source": [
        "import os\n",
        "import sys\n",
        "import pandas as pd\n",
        "import numpy as np \n",
        "import torch\n",
        "import random"
      ]
    },
    {
      "cell_type": "markdown",
      "metadata": {
        "id": "T03wL1uH1HHb"
      },
      "source": [
        "## Basic"
      ]
    },
    {
      "cell_type": "markdown",
      "metadata": {
        "id": "cvJncy-fjkUV"
      },
      "source": [
        "### BERT 모델과 토크나이저 로드   \n",
        "- 두 사람의 대화에서 (단어 및 문장의) embedding을 생성하고자 한다. 아래 대화를 BERT 모델에 입력해 출력값 중 \"hidden states\"값을 가져오자.\n",
        "- `Hidden States`는 3차원 텐서를 가지고 있는 list 타입이다. List에는 BERT 모델의 각 layer마다의 hidden state 3차원 텐서를 갖고 있으며 각 텐서는 (batch_size, sequence_length, hidden_size) shape을 가진다. BERT-base 모델은 12 layer를 갖고 있고 이와 별도로 Embedding Layer 1개를 더 갖고 있기 때문에 `len(hidden states)`는 13개가 된다. \n",
        "    - batch_size: 학습 시 설정한 배치 사이즈. 또는 BERT 모델에 입력된 문장의 개수\n",
        "    - sequence_length: 문장의 token의 개수. \n",
        "    - hidden size: token의 embedding size \n",
        "- Reference\n",
        "    - [BertTokenizer.tokenize() 함수의 매개변수 설명](https://huggingface.co/transformers/v3.0.2/main_classes/tokenizer.html#transformers.PreTrainedTokenizer.__call__)\n",
        "    - [BERTModel.forward() 함수의 매개변수 및 리턴 값 설명](https://huggingface.co/docs/transformers/model_doc/bert#transformers.BertModel.forward)"
      ]
    },
    {
      "cell_type": "code",
      "execution_count": null,
      "metadata": {
        "id": "bcmmeNkujk0x",
        "colab": {
          "base_uri": "https://localhost:8080/"
        },
        "outputId": "095624aa-90ec-4bb6-b223-2d1c8d2bd6f7"
      },
      "outputs": [
        {
          "output_type": "stream",
          "name": "stdout",
          "text": [
            "Collecting transformers\n",
            "  Downloading transformers-4.16.2-py3-none-any.whl (3.5 MB)\n",
            "\u001b[?25l\r\u001b[K     |                                | 10 kB 33.3 MB/s eta 0:00:01\r\u001b[K     |▏                               | 20 kB 30.6 MB/s eta 0:00:01\r\u001b[K     |▎                               | 30 kB 18.4 MB/s eta 0:00:01\r\u001b[K     |▍                               | 40 kB 8.1 MB/s eta 0:00:01\r\u001b[K     |▌                               | 51 kB 7.9 MB/s eta 0:00:01\r\u001b[K     |▌                               | 61 kB 9.3 MB/s eta 0:00:01\r\u001b[K     |▋                               | 71 kB 9.5 MB/s eta 0:00:01\r\u001b[K     |▊                               | 81 kB 9.7 MB/s eta 0:00:01\r\u001b[K     |▉                               | 92 kB 10.8 MB/s eta 0:00:01\r\u001b[K     |█                               | 102 kB 8.9 MB/s eta 0:00:01\r\u001b[K     |█                               | 112 kB 8.9 MB/s eta 0:00:01\r\u001b[K     |█                               | 122 kB 8.9 MB/s eta 0:00:01\r\u001b[K     |█▏                              | 133 kB 8.9 MB/s eta 0:00:01\r\u001b[K     |█▎                              | 143 kB 8.9 MB/s eta 0:00:01\r\u001b[K     |█▍                              | 153 kB 8.9 MB/s eta 0:00:01\r\u001b[K     |█▌                              | 163 kB 8.9 MB/s eta 0:00:01\r\u001b[K     |█▋                              | 174 kB 8.9 MB/s eta 0:00:01\r\u001b[K     |█▋                              | 184 kB 8.9 MB/s eta 0:00:01\r\u001b[K     |█▊                              | 194 kB 8.9 MB/s eta 0:00:01\r\u001b[K     |█▉                              | 204 kB 8.9 MB/s eta 0:00:01\r\u001b[K     |██                              | 215 kB 8.9 MB/s eta 0:00:01\r\u001b[K     |██                              | 225 kB 8.9 MB/s eta 0:00:01\r\u001b[K     |██▏                             | 235 kB 8.9 MB/s eta 0:00:01\r\u001b[K     |██▏                             | 245 kB 8.9 MB/s eta 0:00:01\r\u001b[K     |██▎                             | 256 kB 8.9 MB/s eta 0:00:01\r\u001b[K     |██▍                             | 266 kB 8.9 MB/s eta 0:00:01\r\u001b[K     |██▌                             | 276 kB 8.9 MB/s eta 0:00:01\r\u001b[K     |██▋                             | 286 kB 8.9 MB/s eta 0:00:01\r\u001b[K     |██▊                             | 296 kB 8.9 MB/s eta 0:00:01\r\u001b[K     |██▊                             | 307 kB 8.9 MB/s eta 0:00:01\r\u001b[K     |██▉                             | 317 kB 8.9 MB/s eta 0:00:01\r\u001b[K     |███                             | 327 kB 8.9 MB/s eta 0:00:01\r\u001b[K     |███                             | 337 kB 8.9 MB/s eta 0:00:01\r\u001b[K     |███▏                            | 348 kB 8.9 MB/s eta 0:00:01\r\u001b[K     |███▎                            | 358 kB 8.9 MB/s eta 0:00:01\r\u001b[K     |███▎                            | 368 kB 8.9 MB/s eta 0:00:01\r\u001b[K     |███▍                            | 378 kB 8.9 MB/s eta 0:00:01\r\u001b[K     |███▌                            | 389 kB 8.9 MB/s eta 0:00:01\r\u001b[K     |███▋                            | 399 kB 8.9 MB/s eta 0:00:01\r\u001b[K     |███▊                            | 409 kB 8.9 MB/s eta 0:00:01\r\u001b[K     |███▉                            | 419 kB 8.9 MB/s eta 0:00:01\r\u001b[K     |███▉                            | 430 kB 8.9 MB/s eta 0:00:01\r\u001b[K     |████                            | 440 kB 8.9 MB/s eta 0:00:01\r\u001b[K     |████                            | 450 kB 8.9 MB/s eta 0:00:01\r\u001b[K     |████▏                           | 460 kB 8.9 MB/s eta 0:00:01\r\u001b[K     |████▎                           | 471 kB 8.9 MB/s eta 0:00:01\r\u001b[K     |████▍                           | 481 kB 8.9 MB/s eta 0:00:01\r\u001b[K     |████▍                           | 491 kB 8.9 MB/s eta 0:00:01\r\u001b[K     |████▌                           | 501 kB 8.9 MB/s eta 0:00:01\r\u001b[K     |████▋                           | 512 kB 8.9 MB/s eta 0:00:01\r\u001b[K     |████▊                           | 522 kB 8.9 MB/s eta 0:00:01\r\u001b[K     |████▉                           | 532 kB 8.9 MB/s eta 0:00:01\r\u001b[K     |█████                           | 542 kB 8.9 MB/s eta 0:00:01\r\u001b[K     |█████                           | 552 kB 8.9 MB/s eta 0:00:01\r\u001b[K     |█████                           | 563 kB 8.9 MB/s eta 0:00:01\r\u001b[K     |█████▏                          | 573 kB 8.9 MB/s eta 0:00:01\r\u001b[K     |█████▎                          | 583 kB 8.9 MB/s eta 0:00:01\r\u001b[K     |█████▍                          | 593 kB 8.9 MB/s eta 0:00:01\r\u001b[K     |█████▌                          | 604 kB 8.9 MB/s eta 0:00:01\r\u001b[K     |█████▌                          | 614 kB 8.9 MB/s eta 0:00:01\r\u001b[K     |█████▋                          | 624 kB 8.9 MB/s eta 0:00:01\r\u001b[K     |█████▊                          | 634 kB 8.9 MB/s eta 0:00:01\r\u001b[K     |█████▉                          | 645 kB 8.9 MB/s eta 0:00:01\r\u001b[K     |██████                          | 655 kB 8.9 MB/s eta 0:00:01\r\u001b[K     |██████                          | 665 kB 8.9 MB/s eta 0:00:01\r\u001b[K     |██████                          | 675 kB 8.9 MB/s eta 0:00:01\r\u001b[K     |██████▏                         | 686 kB 8.9 MB/s eta 0:00:01\r\u001b[K     |██████▎                         | 696 kB 8.9 MB/s eta 0:00:01\r\u001b[K     |██████▍                         | 706 kB 8.9 MB/s eta 0:00:01\r\u001b[K     |██████▌                         | 716 kB 8.9 MB/s eta 0:00:01\r\u001b[K     |██████▌                         | 727 kB 8.9 MB/s eta 0:00:01\r\u001b[K     |██████▋                         | 737 kB 8.9 MB/s eta 0:00:01\r\u001b[K     |██████▊                         | 747 kB 8.9 MB/s eta 0:00:01\r\u001b[K     |██████▉                         | 757 kB 8.9 MB/s eta 0:00:01\r\u001b[K     |███████                         | 768 kB 8.9 MB/s eta 0:00:01\r\u001b[K     |███████                         | 778 kB 8.9 MB/s eta 0:00:01\r\u001b[K     |███████                         | 788 kB 8.9 MB/s eta 0:00:01\r\u001b[K     |███████▏                        | 798 kB 8.9 MB/s eta 0:00:01\r\u001b[K     |███████▎                        | 808 kB 8.9 MB/s eta 0:00:01\r\u001b[K     |███████▍                        | 819 kB 8.9 MB/s eta 0:00:01\r\u001b[K     |███████▌                        | 829 kB 8.9 MB/s eta 0:00:01\r\u001b[K     |███████▋                        | 839 kB 8.9 MB/s eta 0:00:01\r\u001b[K     |███████▋                        | 849 kB 8.9 MB/s eta 0:00:01\r\u001b[K     |███████▊                        | 860 kB 8.9 MB/s eta 0:00:01\r\u001b[K     |███████▉                        | 870 kB 8.9 MB/s eta 0:00:01\r\u001b[K     |████████                        | 880 kB 8.9 MB/s eta 0:00:01\r\u001b[K     |████████                        | 890 kB 8.9 MB/s eta 0:00:01\r\u001b[K     |████████▏                       | 901 kB 8.9 MB/s eta 0:00:01\r\u001b[K     |████████▏                       | 911 kB 8.9 MB/s eta 0:00:01\r\u001b[K     |████████▎                       | 921 kB 8.9 MB/s eta 0:00:01\r\u001b[K     |████████▍                       | 931 kB 8.9 MB/s eta 0:00:01\r\u001b[K     |████████▌                       | 942 kB 8.9 MB/s eta 0:00:01\r\u001b[K     |████████▋                       | 952 kB 8.9 MB/s eta 0:00:01\r\u001b[K     |████████▊                       | 962 kB 8.9 MB/s eta 0:00:01\r\u001b[K     |████████▊                       | 972 kB 8.9 MB/s eta 0:00:01\r\u001b[K     |████████▉                       | 983 kB 8.9 MB/s eta 0:00:01\r\u001b[K     |█████████                       | 993 kB 8.9 MB/s eta 0:00:01\r\u001b[K     |█████████                       | 1.0 MB 8.9 MB/s eta 0:00:01\r\u001b[K     |█████████▏                      | 1.0 MB 8.9 MB/s eta 0:00:01\r\u001b[K     |█████████▎                      | 1.0 MB 8.9 MB/s eta 0:00:01\r\u001b[K     |█████████▎                      | 1.0 MB 8.9 MB/s eta 0:00:01\r\u001b[K     |█████████▍                      | 1.0 MB 8.9 MB/s eta 0:00:01\r\u001b[K     |█████████▌                      | 1.1 MB 8.9 MB/s eta 0:00:01\r\u001b[K     |█████████▋                      | 1.1 MB 8.9 MB/s eta 0:00:01\r\u001b[K     |█████████▊                      | 1.1 MB 8.9 MB/s eta 0:00:01\r\u001b[K     |█████████▉                      | 1.1 MB 8.9 MB/s eta 0:00:01\r\u001b[K     |█████████▉                      | 1.1 MB 8.9 MB/s eta 0:00:01\r\u001b[K     |██████████                      | 1.1 MB 8.9 MB/s eta 0:00:01\r\u001b[K     |██████████                      | 1.1 MB 8.9 MB/s eta 0:00:01\r\u001b[K     |██████████▏                     | 1.1 MB 8.9 MB/s eta 0:00:01\r\u001b[K     |██████████▎                     | 1.1 MB 8.9 MB/s eta 0:00:01\r\u001b[K     |██████████▍                     | 1.1 MB 8.9 MB/s eta 0:00:01\r\u001b[K     |██████████▍                     | 1.2 MB 8.9 MB/s eta 0:00:01\r\u001b[K     |██████████▌                     | 1.2 MB 8.9 MB/s eta 0:00:01\r\u001b[K     |██████████▋                     | 1.2 MB 8.9 MB/s eta 0:00:01\r\u001b[K     |██████████▊                     | 1.2 MB 8.9 MB/s eta 0:00:01\r\u001b[K     |██████████▉                     | 1.2 MB 8.9 MB/s eta 0:00:01\r\u001b[K     |███████████                     | 1.2 MB 8.9 MB/s eta 0:00:01\r\u001b[K     |███████████                     | 1.2 MB 8.9 MB/s eta 0:00:01\r\u001b[K     |███████████                     | 1.2 MB 8.9 MB/s eta 0:00:01\r\u001b[K     |███████████▏                    | 1.2 MB 8.9 MB/s eta 0:00:01\r\u001b[K     |███████████▎                    | 1.2 MB 8.9 MB/s eta 0:00:01\r\u001b[K     |███████████▍                    | 1.3 MB 8.9 MB/s eta 0:00:01\r\u001b[K     |███████████▌                    | 1.3 MB 8.9 MB/s eta 0:00:01\r\u001b[K     |███████████▌                    | 1.3 MB 8.9 MB/s eta 0:00:01\r\u001b[K     |███████████▋                    | 1.3 MB 8.9 MB/s eta 0:00:01\r\u001b[K     |███████████▊                    | 1.3 MB 8.9 MB/s eta 0:00:01\r\u001b[K     |███████████▉                    | 1.3 MB 8.9 MB/s eta 0:00:01\r\u001b[K     |████████████                    | 1.3 MB 8.9 MB/s eta 0:00:01\r\u001b[K     |████████████                    | 1.3 MB 8.9 MB/s eta 0:00:01\r\u001b[K     |████████████                    | 1.3 MB 8.9 MB/s eta 0:00:01\r\u001b[K     |████████████▏                   | 1.4 MB 8.9 MB/s eta 0:00:01\r\u001b[K     |████████████▎                   | 1.4 MB 8.9 MB/s eta 0:00:01\r\u001b[K     |████████████▍                   | 1.4 MB 8.9 MB/s eta 0:00:01\r\u001b[K     |████████████▌                   | 1.4 MB 8.9 MB/s eta 0:00:01\r\u001b[K     |████████████▋                   | 1.4 MB 8.9 MB/s eta 0:00:01\r\u001b[K     |████████████▋                   | 1.4 MB 8.9 MB/s eta 0:00:01\r\u001b[K     |████████████▊                   | 1.4 MB 8.9 MB/s eta 0:00:01\r\u001b[K     |████████████▉                   | 1.4 MB 8.9 MB/s eta 0:00:01\r\u001b[K     |█████████████                   | 1.4 MB 8.9 MB/s eta 0:00:01\r\u001b[K     |█████████████                   | 1.4 MB 8.9 MB/s eta 0:00:01\r\u001b[K     |█████████████                   | 1.5 MB 8.9 MB/s eta 0:00:01\r\u001b[K     |█████████████▏                  | 1.5 MB 8.9 MB/s eta 0:00:01\r\u001b[K     |█████████████▎                  | 1.5 MB 8.9 MB/s eta 0:00:01\r\u001b[K     |█████████████▍                  | 1.5 MB 8.9 MB/s eta 0:00:01\r\u001b[K     |█████████████▌                  | 1.5 MB 8.9 MB/s eta 0:00:01\r\u001b[K     |█████████████▋                  | 1.5 MB 8.9 MB/s eta 0:00:01\r\u001b[K     |█████████████▋                  | 1.5 MB 8.9 MB/s eta 0:00:01\r\u001b[K     |█████████████▊                  | 1.5 MB 8.9 MB/s eta 0:00:01\r\u001b[K     |█████████████▉                  | 1.5 MB 8.9 MB/s eta 0:00:01\r\u001b[K     |██████████████                  | 1.5 MB 8.9 MB/s eta 0:00:01\r\u001b[K     |██████████████                  | 1.6 MB 8.9 MB/s eta 0:00:01\r\u001b[K     |██████████████▏                 | 1.6 MB 8.9 MB/s eta 0:00:01\r\u001b[K     |██████████████▏                 | 1.6 MB 8.9 MB/s eta 0:00:01\r\u001b[K     |██████████████▎                 | 1.6 MB 8.9 MB/s eta 0:00:01\r\u001b[K     |██████████████▍                 | 1.6 MB 8.9 MB/s eta 0:00:01\r\u001b[K     |██████████████▌                 | 1.6 MB 8.9 MB/s eta 0:00:01\r\u001b[K     |██████████████▋                 | 1.6 MB 8.9 MB/s eta 0:00:01\r\u001b[K     |██████████████▊                 | 1.6 MB 8.9 MB/s eta 0:00:01\r\u001b[K     |██████████████▊                 | 1.6 MB 8.9 MB/s eta 0:00:01\r\u001b[K     |██████████████▉                 | 1.6 MB 8.9 MB/s eta 0:00:01\r\u001b[K     |███████████████                 | 1.7 MB 8.9 MB/s eta 0:00:01\r\u001b[K     |███████████████                 | 1.7 MB 8.9 MB/s eta 0:00:01\r\u001b[K     |███████████████▏                | 1.7 MB 8.9 MB/s eta 0:00:01\r\u001b[K     |███████████████▎                | 1.7 MB 8.9 MB/s eta 0:00:01\r\u001b[K     |███████████████▎                | 1.7 MB 8.9 MB/s eta 0:00:01\r\u001b[K     |███████████████▍                | 1.7 MB 8.9 MB/s eta 0:00:01\r\u001b[K     |███████████████▌                | 1.7 MB 8.9 MB/s eta 0:00:01\r\u001b[K     |███████████████▋                | 1.7 MB 8.9 MB/s eta 0:00:01\r\u001b[K     |███████████████▊                | 1.7 MB 8.9 MB/s eta 0:00:01\r\u001b[K     |███████████████▉                | 1.8 MB 8.9 MB/s eta 0:00:01\r\u001b[K     |███████████████▉                | 1.8 MB 8.9 MB/s eta 0:00:01\r\u001b[K     |████████████████                | 1.8 MB 8.9 MB/s eta 0:00:01\r\u001b[K     |████████████████                | 1.8 MB 8.9 MB/s eta 0:00:01\r\u001b[K     |████████████████▏               | 1.8 MB 8.9 MB/s eta 0:00:01\r\u001b[K     |████████████████▎               | 1.8 MB 8.9 MB/s eta 0:00:01\r\u001b[K     |████████████████▍               | 1.8 MB 8.9 MB/s eta 0:00:01\r\u001b[K     |████████████████▍               | 1.8 MB 8.9 MB/s eta 0:00:01\r\u001b[K     |████████████████▌               | 1.8 MB 8.9 MB/s eta 0:00:01\r\u001b[K     |████████████████▋               | 1.8 MB 8.9 MB/s eta 0:00:01\r\u001b[K     |████████████████▊               | 1.9 MB 8.9 MB/s eta 0:00:01\r\u001b[K     |████████████████▉               | 1.9 MB 8.9 MB/s eta 0:00:01\r\u001b[K     |█████████████████               | 1.9 MB 8.9 MB/s eta 0:00:01\r\u001b[K     |█████████████████               | 1.9 MB 8.9 MB/s eta 0:00:01\r\u001b[K     |█████████████████               | 1.9 MB 8.9 MB/s eta 0:00:01\r\u001b[K     |█████████████████▏              | 1.9 MB 8.9 MB/s eta 0:00:01\r\u001b[K     |█████████████████▎              | 1.9 MB 8.9 MB/s eta 0:00:01\r\u001b[K     |█████████████████▍              | 1.9 MB 8.9 MB/s eta 0:00:01\r\u001b[K     |█████████████████▌              | 1.9 MB 8.9 MB/s eta 0:00:01\r\u001b[K     |█████████████████▌              | 1.9 MB 8.9 MB/s eta 0:00:01\r\u001b[K     |█████████████████▋              | 2.0 MB 8.9 MB/s eta 0:00:01\r\u001b[K     |█████████████████▊              | 2.0 MB 8.9 MB/s eta 0:00:01\r\u001b[K     |█████████████████▉              | 2.0 MB 8.9 MB/s eta 0:00:01\r\u001b[K     |██████████████████              | 2.0 MB 8.9 MB/s eta 0:00:01\r\u001b[K     |██████████████████              | 2.0 MB 8.9 MB/s eta 0:00:01\r\u001b[K     |██████████████████              | 2.0 MB 8.9 MB/s eta 0:00:01\r\u001b[K     |██████████████████▏             | 2.0 MB 8.9 MB/s eta 0:00:01\r\u001b[K     |██████████████████▎             | 2.0 MB 8.9 MB/s eta 0:00:01\r\u001b[K     |██████████████████▍             | 2.0 MB 8.9 MB/s eta 0:00:01\r\u001b[K     |██████████████████▌             | 2.0 MB 8.9 MB/s eta 0:00:01\r\u001b[K     |██████████████████▋             | 2.1 MB 8.9 MB/s eta 0:00:01\r\u001b[K     |██████████████████▋             | 2.1 MB 8.9 MB/s eta 0:00:01\r\u001b[K     |██████████████████▊             | 2.1 MB 8.9 MB/s eta 0:00:01\r\u001b[K     |██████████████████▉             | 2.1 MB 8.9 MB/s eta 0:00:01\r\u001b[K     |███████████████████             | 2.1 MB 8.9 MB/s eta 0:00:01\r\u001b[K     |███████████████████             | 2.1 MB 8.9 MB/s eta 0:00:01\r\u001b[K     |███████████████████▏            | 2.1 MB 8.9 MB/s eta 0:00:01\r\u001b[K     |███████████████████▏            | 2.1 MB 8.9 MB/s eta 0:00:01\r\u001b[K     |███████████████████▎            | 2.1 MB 8.9 MB/s eta 0:00:01\r\u001b[K     |███████████████████▍            | 2.2 MB 8.9 MB/s eta 0:00:01\r\u001b[K     |███████████████████▌            | 2.2 MB 8.9 MB/s eta 0:00:01\r\u001b[K     |███████████████████▋            | 2.2 MB 8.9 MB/s eta 0:00:01\r\u001b[K     |███████████████████▋            | 2.2 MB 8.9 MB/s eta 0:00:01\r\u001b[K     |███████████████████▊            | 2.2 MB 8.9 MB/s eta 0:00:01\r\u001b[K     |███████████████████▉            | 2.2 MB 8.9 MB/s eta 0:00:01\r\u001b[K     |████████████████████            | 2.2 MB 8.9 MB/s eta 0:00:01\r\u001b[K     |████████████████████            | 2.2 MB 8.9 MB/s eta 0:00:01\r\u001b[K     |████████████████████▏           | 2.2 MB 8.9 MB/s eta 0:00:01\r\u001b[K     |████████████████████▏           | 2.2 MB 8.9 MB/s eta 0:00:01\r\u001b[K     |████████████████████▎           | 2.3 MB 8.9 MB/s eta 0:00:01\r\u001b[K     |████████████████████▍           | 2.3 MB 8.9 MB/s eta 0:00:01\r\u001b[K     |████████████████████▌           | 2.3 MB 8.9 MB/s eta 0:00:01\r\u001b[K     |████████████████████▋           | 2.3 MB 8.9 MB/s eta 0:00:01\r\u001b[K     |████████████████████▊           | 2.3 MB 8.9 MB/s eta 0:00:01\r\u001b[K     |████████████████████▊           | 2.3 MB 8.9 MB/s eta 0:00:01\r\u001b[K     |████████████████████▉           | 2.3 MB 8.9 MB/s eta 0:00:01\r\u001b[K     |█████████████████████           | 2.3 MB 8.9 MB/s eta 0:00:01\r\u001b[K     |█████████████████████           | 2.3 MB 8.9 MB/s eta 0:00:01\r\u001b[K     |█████████████████████▏          | 2.3 MB 8.9 MB/s eta 0:00:01\r\u001b[K     |█████████████████████▎          | 2.4 MB 8.9 MB/s eta 0:00:01\r\u001b[K     |█████████████████████▎          | 2.4 MB 8.9 MB/s eta 0:00:01\r\u001b[K     |█████████████████████▍          | 2.4 MB 8.9 MB/s eta 0:00:01\r\u001b[K     |█████████████████████▌          | 2.4 MB 8.9 MB/s eta 0:00:01\r\u001b[K     |█████████████████████▋          | 2.4 MB 8.9 MB/s eta 0:00:01\r\u001b[K     |█████████████████████▊          | 2.4 MB 8.9 MB/s eta 0:00:01\r\u001b[K     |█████████████████████▉          | 2.4 MB 8.9 MB/s eta 0:00:01\r\u001b[K     |█████████████████████▉          | 2.4 MB 8.9 MB/s eta 0:00:01\r\u001b[K     |██████████████████████          | 2.4 MB 8.9 MB/s eta 0:00:01\r\u001b[K     |██████████████████████          | 2.4 MB 8.9 MB/s eta 0:00:01\r\u001b[K     |██████████████████████▏         | 2.5 MB 8.9 MB/s eta 0:00:01\r\u001b[K     |██████████████████████▎         | 2.5 MB 8.9 MB/s eta 0:00:01\r\u001b[K     |██████████████████████▍         | 2.5 MB 8.9 MB/s eta 0:00:01\r\u001b[K     |██████████████████████▍         | 2.5 MB 8.9 MB/s eta 0:00:01\r\u001b[K     |██████████████████████▌         | 2.5 MB 8.9 MB/s eta 0:00:01\r\u001b[K     |██████████████████████▋         | 2.5 MB 8.9 MB/s eta 0:00:01\r\u001b[K     |██████████████████████▊         | 2.5 MB 8.9 MB/s eta 0:00:01\r\u001b[K     |██████████████████████▉         | 2.5 MB 8.9 MB/s eta 0:00:01\r\u001b[K     |███████████████████████         | 2.5 MB 8.9 MB/s eta 0:00:01\r\u001b[K     |███████████████████████         | 2.5 MB 8.9 MB/s eta 0:00:01\r\u001b[K     |███████████████████████         | 2.6 MB 8.9 MB/s eta 0:00:01\r\u001b[K     |███████████████████████▏        | 2.6 MB 8.9 MB/s eta 0:00:01\r\u001b[K     |███████████████████████▎        | 2.6 MB 8.9 MB/s eta 0:00:01\r\u001b[K     |███████████████████████▍        | 2.6 MB 8.9 MB/s eta 0:00:01\r\u001b[K     |███████████████████████▌        | 2.6 MB 8.9 MB/s eta 0:00:01\r\u001b[K     |███████████████████████▌        | 2.6 MB 8.9 MB/s eta 0:00:01\r\u001b[K     |███████████████████████▋        | 2.6 MB 8.9 MB/s eta 0:00:01\r\u001b[K     |███████████████████████▊        | 2.6 MB 8.9 MB/s eta 0:00:01\r\u001b[K     |███████████████████████▉        | 2.6 MB 8.9 MB/s eta 0:00:01\r\u001b[K     |████████████████████████        | 2.7 MB 8.9 MB/s eta 0:00:01\r\u001b[K     |████████████████████████        | 2.7 MB 8.9 MB/s eta 0:00:01\r\u001b[K     |████████████████████████        | 2.7 MB 8.9 MB/s eta 0:00:01\r\u001b[K     |████████████████████████▏       | 2.7 MB 8.9 MB/s eta 0:00:01\r\u001b[K     |████████████████████████▎       | 2.7 MB 8.9 MB/s eta 0:00:01\r\u001b[K     |████████████████████████▍       | 2.7 MB 8.9 MB/s eta 0:00:01\r\u001b[K     |████████████████████████▌       | 2.7 MB 8.9 MB/s eta 0:00:01\r\u001b[K     |████████████████████████▋       | 2.7 MB 8.9 MB/s eta 0:00:01\r\u001b[K     |████████████████████████▋       | 2.7 MB 8.9 MB/s eta 0:00:01\r\u001b[K     |████████████████████████▊       | 2.7 MB 8.9 MB/s eta 0:00:01\r\u001b[K     |████████████████████████▉       | 2.8 MB 8.9 MB/s eta 0:00:01\r\u001b[K     |█████████████████████████       | 2.8 MB 8.9 MB/s eta 0:00:01\r\u001b[K     |█████████████████████████       | 2.8 MB 8.9 MB/s eta 0:00:01\r\u001b[K     |█████████████████████████▏      | 2.8 MB 8.9 MB/s eta 0:00:01\r\u001b[K     |█████████████████████████▏      | 2.8 MB 8.9 MB/s eta 0:00:01\r\u001b[K     |█████████████████████████▎      | 2.8 MB 8.9 MB/s eta 0:00:01\r\u001b[K     |█████████████████████████▍      | 2.8 MB 8.9 MB/s eta 0:00:01\r\u001b[K     |█████████████████████████▌      | 2.8 MB 8.9 MB/s eta 0:00:01\r\u001b[K     |█████████████████████████▋      | 2.8 MB 8.9 MB/s eta 0:00:01\r\u001b[K     |█████████████████████████▋      | 2.8 MB 8.9 MB/s eta 0:00:01\r\u001b[K     |█████████████████████████▊      | 2.9 MB 8.9 MB/s eta 0:00:01\r\u001b[K     |█████████████████████████▉      | 2.9 MB 8.9 MB/s eta 0:00:01\r\u001b[K     |██████████████████████████      | 2.9 MB 8.9 MB/s eta 0:00:01\r\u001b[K     |██████████████████████████      | 2.9 MB 8.9 MB/s eta 0:00:01\r\u001b[K     |██████████████████████████▏     | 2.9 MB 8.9 MB/s eta 0:00:01\r\u001b[K     |██████████████████████████▏     | 2.9 MB 8.9 MB/s eta 0:00:01\r\u001b[K     |██████████████████████████▎     | 2.9 MB 8.9 MB/s eta 0:00:01\r\u001b[K     |██████████████████████████▍     | 2.9 MB 8.9 MB/s eta 0:00:01\r\u001b[K     |██████████████████████████▌     | 2.9 MB 8.9 MB/s eta 0:00:01\r\u001b[K     |██████████████████████████▋     | 2.9 MB 8.9 MB/s eta 0:00:01\r\u001b[K     |██████████████████████████▊     | 3.0 MB 8.9 MB/s eta 0:00:01\r\u001b[K     |██████████████████████████▊     | 3.0 MB 8.9 MB/s eta 0:00:01\r\u001b[K     |██████████████████████████▉     | 3.0 MB 8.9 MB/s eta 0:00:01\r\u001b[K     |███████████████████████████     | 3.0 MB 8.9 MB/s eta 0:00:01\r\u001b[K     |███████████████████████████     | 3.0 MB 8.9 MB/s eta 0:00:01\r\u001b[K     |███████████████████████████▏    | 3.0 MB 8.9 MB/s eta 0:00:01\r\u001b[K     |███████████████████████████▎    | 3.0 MB 8.9 MB/s eta 0:00:01\r\u001b[K     |███████████████████████████▎    | 3.0 MB 8.9 MB/s eta 0:00:01\r\u001b[K     |███████████████████████████▍    | 3.0 MB 8.9 MB/s eta 0:00:01\r\u001b[K     |███████████████████████████▌    | 3.1 MB 8.9 MB/s eta 0:00:01\r\u001b[K     |███████████████████████████▋    | 3.1 MB 8.9 MB/s eta 0:00:01\r\u001b[K     |███████████████████████████▊    | 3.1 MB 8.9 MB/s eta 0:00:01\r\u001b[K     |███████████████████████████▉    | 3.1 MB 8.9 MB/s eta 0:00:01\r\u001b[K     |███████████████████████████▉    | 3.1 MB 8.9 MB/s eta 0:00:01\r\u001b[K     |████████████████████████████    | 3.1 MB 8.9 MB/s eta 0:00:01\r\u001b[K     |████████████████████████████    | 3.1 MB 8.9 MB/s eta 0:00:01\r\u001b[K     |████████████████████████████▏   | 3.1 MB 8.9 MB/s eta 0:00:01\r\u001b[K     |████████████████████████████▎   | 3.1 MB 8.9 MB/s eta 0:00:01\r\u001b[K     |████████████████████████████▍   | 3.1 MB 8.9 MB/s eta 0:00:01\r\u001b[K     |████████████████████████████▍   | 3.2 MB 8.9 MB/s eta 0:00:01\r\u001b[K     |████████████████████████████▌   | 3.2 MB 8.9 MB/s eta 0:00:01\r\u001b[K     |████████████████████████████▋   | 3.2 MB 8.9 MB/s eta 0:00:01\r\u001b[K     |████████████████████████████▊   | 3.2 MB 8.9 MB/s eta 0:00:01\r\u001b[K     |████████████████████████████▉   | 3.2 MB 8.9 MB/s eta 0:00:01\r\u001b[K     |█████████████████████████████   | 3.2 MB 8.9 MB/s eta 0:00:01\r\u001b[K     |█████████████████████████████   | 3.2 MB 8.9 MB/s eta 0:00:01\r\u001b[K     |█████████████████████████████   | 3.2 MB 8.9 MB/s eta 0:00:01\r\u001b[K     |█████████████████████████████▏  | 3.2 MB 8.9 MB/s eta 0:00:01\r\u001b[K     |█████████████████████████████▎  | 3.2 MB 8.9 MB/s eta 0:00:01\r\u001b[K     |█████████████████████████████▍  | 3.3 MB 8.9 MB/s eta 0:00:01\r\u001b[K     |█████████████████████████████▌  | 3.3 MB 8.9 MB/s eta 0:00:01\r\u001b[K     |█████████████████████████████▌  | 3.3 MB 8.9 MB/s eta 0:00:01\r\u001b[K     |█████████████████████████████▋  | 3.3 MB 8.9 MB/s eta 0:00:01\r\u001b[K     |█████████████████████████████▊  | 3.3 MB 8.9 MB/s eta 0:00:01\r\u001b[K     |█████████████████████████████▉  | 3.3 MB 8.9 MB/s eta 0:00:01\r\u001b[K     |██████████████████████████████  | 3.3 MB 8.9 MB/s eta 0:00:01\r\u001b[K     |██████████████████████████████  | 3.3 MB 8.9 MB/s eta 0:00:01\r\u001b[K     |██████████████████████████████  | 3.3 MB 8.9 MB/s eta 0:00:01\r\u001b[K     |██████████████████████████████▏ | 3.3 MB 8.9 MB/s eta 0:00:01\r\u001b[K     |██████████████████████████████▎ | 3.4 MB 8.9 MB/s eta 0:00:01\r\u001b[K     |██████████████████████████████▍ | 3.4 MB 8.9 MB/s eta 0:00:01\r\u001b[K     |██████████████████████████████▌ | 3.4 MB 8.9 MB/s eta 0:00:01\r\u001b[K     |██████████████████████████████▋ | 3.4 MB 8.9 MB/s eta 0:00:01\r\u001b[K     |██████████████████████████████▋ | 3.4 MB 8.9 MB/s eta 0:00:01\r\u001b[K     |██████████████████████████████▊ | 3.4 MB 8.9 MB/s eta 0:00:01\r\u001b[K     |██████████████████████████████▉ | 3.4 MB 8.9 MB/s eta 0:00:01\r\u001b[K     |███████████████████████████████ | 3.4 MB 8.9 MB/s eta 0:00:01\r\u001b[K     |███████████████████████████████ | 3.4 MB 8.9 MB/s eta 0:00:01\r\u001b[K     |███████████████████████████████▏| 3.5 MB 8.9 MB/s eta 0:00:01\r\u001b[K     |███████████████████████████████▏| 3.5 MB 8.9 MB/s eta 0:00:01\r\u001b[K     |███████████████████████████████▎| 3.5 MB 8.9 MB/s eta 0:00:01\r\u001b[K     |███████████████████████████████▍| 3.5 MB 8.9 MB/s eta 0:00:01\r\u001b[K     |███████████████████████████████▌| 3.5 MB 8.9 MB/s eta 0:00:01\r\u001b[K     |███████████████████████████████▋| 3.5 MB 8.9 MB/s eta 0:00:01\r\u001b[K     |███████████████████████████████▊| 3.5 MB 8.9 MB/s eta 0:00:01\r\u001b[K     |███████████████████████████████▊| 3.5 MB 8.9 MB/s eta 0:00:01\r\u001b[K     |███████████████████████████████▉| 3.5 MB 8.9 MB/s eta 0:00:01\r\u001b[K     |████████████████████████████████| 3.5 MB 8.9 MB/s eta 0:00:01\r\u001b[K     |████████████████████████████████| 3.5 MB 8.9 MB/s \n",
            "\u001b[?25hRequirement already satisfied: requests in /usr/local/lib/python3.7/dist-packages (from transformers) (2.23.0)\n",
            "Collecting tokenizers!=0.11.3,>=0.10.1\n",
            "  Downloading tokenizers-0.11.6-cp37-cp37m-manylinux_2_12_x86_64.manylinux2010_x86_64.whl (6.5 MB)\n",
            "\u001b[K     |████████████████████████████████| 6.5 MB 86.1 MB/s \n",
            "\u001b[?25hRequirement already satisfied: numpy>=1.17 in /usr/local/lib/python3.7/dist-packages (from transformers) (1.21.5)\n",
            "Collecting huggingface-hub<1.0,>=0.1.0\n",
            "  Downloading huggingface_hub-0.4.0-py3-none-any.whl (67 kB)\n",
            "\u001b[K     |████████████████████████████████| 67 kB 6.8 MB/s \n",
            "\u001b[?25hRequirement already satisfied: regex!=2019.12.17 in /usr/local/lib/python3.7/dist-packages (from transformers) (2019.12.20)\n",
            "Requirement already satisfied: filelock in /usr/local/lib/python3.7/dist-packages (from transformers) (3.6.0)\n",
            "Collecting sacremoses\n",
            "  Downloading sacremoses-0.0.47-py2.py3-none-any.whl (895 kB)\n",
            "\u001b[K     |████████████████████████████████| 895 kB 78.1 MB/s \n",
            "\u001b[?25hRequirement already satisfied: tqdm>=4.27 in /usr/local/lib/python3.7/dist-packages (from transformers) (4.62.3)\n",
            "Requirement already satisfied: importlib-metadata in /usr/local/lib/python3.7/dist-packages (from transformers) (4.11.1)\n",
            "Requirement already satisfied: packaging>=20.0 in /usr/local/lib/python3.7/dist-packages (from transformers) (21.3)\n",
            "Collecting pyyaml>=5.1\n",
            "  Downloading PyYAML-6.0-cp37-cp37m-manylinux_2_5_x86_64.manylinux1_x86_64.manylinux_2_12_x86_64.manylinux2010_x86_64.whl (596 kB)\n",
            "\u001b[K     |████████████████████████████████| 596 kB 75.3 MB/s \n",
            "\u001b[?25hRequirement already satisfied: typing-extensions>=3.7.4.3 in /usr/local/lib/python3.7/dist-packages (from huggingface-hub<1.0,>=0.1.0->transformers) (3.10.0.2)\n",
            "Requirement already satisfied: pyparsing!=3.0.5,>=2.0.2 in /usr/local/lib/python3.7/dist-packages (from packaging>=20.0->transformers) (3.0.7)\n",
            "Requirement already satisfied: zipp>=0.5 in /usr/local/lib/python3.7/dist-packages (from importlib-metadata->transformers) (3.7.0)\n",
            "Requirement already satisfied: idna<3,>=2.5 in /usr/local/lib/python3.7/dist-packages (from requests->transformers) (2.10)\n",
            "Requirement already satisfied: chardet<4,>=3.0.2 in /usr/local/lib/python3.7/dist-packages (from requests->transformers) (3.0.4)\n",
            "Requirement already satisfied: urllib3!=1.25.0,!=1.25.1,<1.26,>=1.21.1 in /usr/local/lib/python3.7/dist-packages (from requests->transformers) (1.24.3)\n",
            "Requirement already satisfied: certifi>=2017.4.17 in /usr/local/lib/python3.7/dist-packages (from requests->transformers) (2021.10.8)\n",
            "Requirement already satisfied: joblib in /usr/local/lib/python3.7/dist-packages (from sacremoses->transformers) (1.1.0)\n",
            "Requirement already satisfied: six in /usr/local/lib/python3.7/dist-packages (from sacremoses->transformers) (1.15.0)\n",
            "Requirement already satisfied: click in /usr/local/lib/python3.7/dist-packages (from sacremoses->transformers) (7.1.2)\n",
            "Installing collected packages: pyyaml, tokenizers, sacremoses, huggingface-hub, transformers\n",
            "  Attempting uninstall: pyyaml\n",
            "    Found existing installation: PyYAML 3.13\n",
            "    Uninstalling PyYAML-3.13:\n",
            "      Successfully uninstalled PyYAML-3.13\n",
            "Successfully installed huggingface-hub-0.4.0 pyyaml-6.0 sacremoses-0.0.47 tokenizers-0.11.6 transformers-4.16.2\n"
          ]
        }
      ],
      "source": [
        "!pip install transformers"
      ]
    },
    {
      "cell_type": "code",
      "execution_count": null,
      "metadata": {
        "id": "GZqEFuRHjgBj"
      },
      "outputs": [],
      "source": [
        "from transformers import BertTokenizer, BertModel"
      ]
    },
    {
      "cell_type": "code",
      "execution_count": null,
      "metadata": {
        "id": "NXyCD5dnjo37",
        "colab": {
          "base_uri": "https://localhost:8080/",
          "height": 249,
          "referenced_widgets": [
            "cf596ea27765448cbd3a138cdd11174a",
            "7059a4e5e88b44f19d6a04667912ec03",
            "a7eedb49f0424137a2d005e180944176",
            "88af472b794244c7b32fb99751abc1eb",
            "c1a9faa6ae4e4dfb8e7f973f33a21b56",
            "f69c7b6f79ae497a929f696864cfe08e",
            "4a10cee8279d4dc5ba888077faa0685e",
            "721b38976cb1447da15cceff6b05cdcb",
            "752fa80111e047418f57cdccd2c662c6",
            "03605f23b24a40a184ebc1b26882818d",
            "915abaed3a55435ca4ad5a02a66f4a59",
            "848d7eece4b548159608feb4f329e278",
            "e5da382d2c9742108dfcd1450ebcd458",
            "12c631f6d6ed40d394d4e3171a658b5c",
            "e554fcf839b34750b6d9482661cc6c82",
            "f4ee96c943754680ab40c2d3299f43b7",
            "94281ef729094b91bc12af64eb067e2c",
            "d52f8702f6304a88b0ea7dde95dbe30b",
            "1aedb9e11ae94ca18c13cd7659f271ae",
            "95bec60f7e5b43cfaa8eeaf15dee90d7",
            "89b0e0d7b13c4787b08e71688337aa0c",
            "aac8db05e6b5457ab5dd8a77eec904bb",
            "e8d655a5b6e0465fb72c7aa983015755",
            "aeb0631c72f54bc28eaa0c831510a825",
            "81220493730847f088d52708f5cd5c5c",
            "f5271830583b47068a5849dbe14d8014",
            "005350254d604247aa8936376ff1a0db",
            "b2d0f69ccf6b462eaac9c62a09f46f80",
            "1cb160eb93b642de9913bb0c0f05505f",
            "7599e00d4a194548a31cc450e31f552a",
            "81022d8c85a04e2f922cdf37133303d5",
            "8699e137f5da4d15a32c8579385d66f6",
            "d163518229e04564a1c69f0a4531ab2e",
            "842ab5a918454d25972c7342d8c7789c",
            "b054e7c6bf314cb7853aa052d148b6ab",
            "ab76681062234aa1a18f6ae93819e6d9",
            "2dd51cfb62c5491a844f252e29d3825d",
            "84a76eacb77e49e09998f6e3bca2ff2a",
            "0270137b70b3485393f816f44eee552a",
            "43e33a6801074f62a1e311f148a300e3",
            "edfdc309981948dd87d38ff910801124",
            "362cbd67d00c494495e566c226616b20",
            "35e58ace7e434b4fb5baa7547f64de99",
            "3389670135c64e69b5ebfde1555b3628",
            "211785ffcdd04e4c92533a4006103894",
            "c3a70f09f333448bbd955fefe35ec69f",
            "d2910971076342519b6f6acf442bfe7d",
            "d01bd49ed48d4c599ae142701c964b95",
            "37a2c5077fd14fd7b3f514820b0e288d",
            "3c372a27612f4f87a51b16438abd59bb",
            "1a83192f6c1a4fe4ad2ec2ab65490a22",
            "08cae930d30a4c0dbd6efc1253d61583",
            "c9dbf8f8328f4db6ab000019dc51eeb8",
            "3a3a02ee72264cb7a7c3cb4211586935",
            "91c5ace7e370424a8a80beaf52f63782"
          ]
        },
        "outputId": "d4655251-f610-4218-b70c-3e9bc26c87ea"
      },
      "outputs": [
        {
          "output_type": "display_data",
          "data": {
            "application/vnd.jupyter.widget-view+json": {
              "model_id": "cf596ea27765448cbd3a138cdd11174a",
              "version_minor": 0,
              "version_major": 2
            },
            "text/plain": [
              "Downloading:   0%|          | 0.00/29.0 [00:00<?, ?B/s]"
            ]
          },
          "metadata": {}
        },
        {
          "output_type": "display_data",
          "data": {
            "application/vnd.jupyter.widget-view+json": {
              "model_id": "848d7eece4b548159608feb4f329e278",
              "version_minor": 0,
              "version_major": 2
            },
            "text/plain": [
              "Downloading:   0%|          | 0.00/208k [00:00<?, ?B/s]"
            ]
          },
          "metadata": {}
        },
        {
          "output_type": "display_data",
          "data": {
            "application/vnd.jupyter.widget-view+json": {
              "model_id": "e8d655a5b6e0465fb72c7aa983015755",
              "version_minor": 0,
              "version_major": 2
            },
            "text/plain": [
              "Downloading:   0%|          | 0.00/426k [00:00<?, ?B/s]"
            ]
          },
          "metadata": {}
        },
        {
          "output_type": "display_data",
          "data": {
            "application/vnd.jupyter.widget-view+json": {
              "model_id": "842ab5a918454d25972c7342d8c7789c",
              "version_minor": 0,
              "version_major": 2
            },
            "text/plain": [
              "Downloading:   0%|          | 0.00/570 [00:00<?, ?B/s]"
            ]
          },
          "metadata": {}
        },
        {
          "output_type": "display_data",
          "data": {
            "application/vnd.jupyter.widget-view+json": {
              "model_id": "211785ffcdd04e4c92533a4006103894",
              "version_minor": 0,
              "version_major": 2
            },
            "text/plain": [
              "Downloading:   0%|          | 0.00/416M [00:00<?, ?B/s]"
            ]
          },
          "metadata": {}
        },
        {
          "output_type": "stream",
          "name": "stderr",
          "text": [
            "Some weights of the model checkpoint at bert-base-cased were not used when initializing BertModel: ['cls.predictions.decoder.weight', 'cls.seq_relationship.weight', 'cls.predictions.bias', 'cls.predictions.transform.LayerNorm.weight', 'cls.predictions.transform.dense.weight', 'cls.predictions.transform.LayerNorm.bias', 'cls.seq_relationship.bias', 'cls.predictions.transform.dense.bias']\n",
            "- This IS expected if you are initializing BertModel from the checkpoint of a model trained on another task or with another architecture (e.g. initializing a BertForSequenceClassification model from a BertForPreTraining model).\n",
            "- This IS NOT expected if you are initializing BertModel from the checkpoint of a model that you expect to be exactly identical (initializing a BertForSequenceClassification model from a BertForSequenceClassification model).\n"
          ]
        }
      ],
      "source": [
        "tokenizer_bert = BertTokenizer.from_pretrained(\"bert-base-cased\")\n",
        "model_bert = BertModel.from_pretrained(\"bert-base-cased\")"
      ]
    },
    {
      "cell_type": "code",
      "execution_count": null,
      "metadata": {
        "id": "Q-UbcLH4juKA",
        "colab": {
          "base_uri": "https://localhost:8080/"
        },
        "outputId": "26c3695c-c533-4048-a6b6-cfda13310a75"
      },
      "outputs": [
        {
          "output_type": "stream",
          "name": "stdout",
          "text": [
            "Normal Person asked: what do you do when you have free time?\n",
            "Nerd answers: I code. code frees my minds, body and soul.\n",
            "Normal Person asked: (what a nerd...) coding?\n",
            "Nerd answers: Yes. coding is the best thing to do in the free time.\n"
          ]
        }
      ],
      "source": [
        "normal_person = [\"what do you do when you have free time?\"]\n",
        "nerd = [\"I code. code frees my minds, body and soul.\"]\n",
        "normal_person.append(\"(what a nerd...) coding?\")\n",
        "nerd.append(\"Yes. coding is the best thing to do in the free time.\")\n",
        "\n",
        "for i in range(len(normal_person)):\n",
        "    print(f\"Normal Person asked: {normal_person[i]}\")\n",
        "    print(f\"Nerd answers: {nerd[i]}\")"
      ]
    },
    {
      "cell_type": "code",
      "execution_count": null,
      "metadata": {
        "id": "KQtKFM-hjvVl",
        "colab": {
          "base_uri": "https://localhost:8080/"
        },
        "outputId": "eab2a38e-a514-43ae-b503-bdccced91c0c"
      },
      "outputs": [
        {
          "output_type": "stream",
          "name": "stdout",
          "text": [
            "torch.Size([2, 28])\n"
          ]
        }
      ],
      "source": [
        "# 매개변수 설명\n",
        "# truncation <- max_len 넘어가지 않도록 자르기\n",
        "# padding <- max(seq_len, max_len) zero padding\n",
        "# return_tensors <- return 2d tensor \n",
        "\n",
        "inputs = tokenizer_bert(\n",
        "    text = normal_person,\n",
        "    text_pair = nerd,\n",
        "    truncation = True,\n",
        "    padding = \"longest\", \n",
        "    return_tensors='pt'\n",
        "    )\n",
        "\n",
        "print(inputs['input_ids'].shape)"
      ]
    },
    {
      "cell_type": "code",
      "execution_count": null,
      "metadata": {
        "id": "zjua8EtijyJs",
        "colab": {
          "base_uri": "https://localhost:8080/"
        },
        "outputId": "4d1a1397-2451-4a55-a585-31b38893c45b"
      },
      "outputs": [
        {
          "output_type": "stream",
          "name": "stdout",
          "text": [
            "Coversation 0 -> '[CLS] what do you do when you have free time? [SEP] I code. code frees my minds, body and soul. [SEP] [PAD] [PAD]'\n",
            "Coversation 1 -> '[CLS] ( what a nerd... ) coding? [SEP] Yes. coding is the best thing to do in the free time. [SEP]'\n"
          ]
        }
      ],
      "source": [
        "# decoding\n",
        "for i in range(len(inputs['input_ids'])):\n",
        "    print(f\"Coversation {i} -> '{tokenizer_bert.decode(inputs['input_ids'][i])}'\")"
      ]
    },
    {
      "cell_type": "code",
      "execution_count": null,
      "metadata": {
        "id": "ggtYUkbejzBU",
        "colab": {
          "base_uri": "https://localhost:8080/"
        },
        "outputId": "254ebc67-1cdb-4399-cf0f-651fdf8ae8e2"
      },
      "outputs": [
        {
          "output_type": "execute_result",
          "data": {
            "text/plain": [
              "[3463]"
            ]
          },
          "metadata": {},
          "execution_count": 8
        }
      ],
      "source": [
        "# \"code\" 단어의 token id(각 단어에게 고유하게 주어진 id)를 출력\n",
        "tokenizer_bert.encode('code', add_special_tokens=False)"
      ]
    },
    {
      "cell_type": "code",
      "execution_count": null,
      "metadata": {
        "id": "XZUxJJxkj0NG",
        "colab": {
          "base_uri": "https://localhost:8080/"
        },
        "outputId": "08387c2b-0ba4-4dfc-960e-3c174551076f"
      },
      "outputs": [
        {
          "output_type": "stream",
          "name": "stdout",
          "text": [
            "cuda\n"
          ]
        }
      ],
      "source": [
        "if torch.cuda.is_available():\n",
        "    device = torch.device(\"cuda\")\n",
        "else:\n",
        "    device = torch.device(\"cpu\")\n",
        "print(device)"
      ]
    },
    {
      "cell_type": "code",
      "execution_count": null,
      "metadata": {
        "id": "S5TrsQ_Wj09O",
        "colab": {
          "base_uri": "https://localhost:8080/"
        },
        "outputId": "4127ebf5-89dd-48d3-9c84-92fa8c62a16c"
      },
      "outputs": [
        {
          "output_type": "execute_result",
          "data": {
            "text/plain": [
              "BertModel(\n",
              "  (embeddings): BertEmbeddings(\n",
              "    (word_embeddings): Embedding(28996, 768, padding_idx=0)\n",
              "    (position_embeddings): Embedding(512, 768)\n",
              "    (token_type_embeddings): Embedding(2, 768)\n",
              "    (LayerNorm): LayerNorm((768,), eps=1e-12, elementwise_affine=True)\n",
              "    (dropout): Dropout(p=0.1, inplace=False)\n",
              "  )\n",
              "  (encoder): BertEncoder(\n",
              "    (layer): ModuleList(\n",
              "      (0): BertLayer(\n",
              "        (attention): BertAttention(\n",
              "          (self): BertSelfAttention(\n",
              "            (query): Linear(in_features=768, out_features=768, bias=True)\n",
              "            (key): Linear(in_features=768, out_features=768, bias=True)\n",
              "            (value): Linear(in_features=768, out_features=768, bias=True)\n",
              "            (dropout): Dropout(p=0.1, inplace=False)\n",
              "          )\n",
              "          (output): BertSelfOutput(\n",
              "            (dense): Linear(in_features=768, out_features=768, bias=True)\n",
              "            (LayerNorm): LayerNorm((768,), eps=1e-12, elementwise_affine=True)\n",
              "            (dropout): Dropout(p=0.1, inplace=False)\n",
              "          )\n",
              "        )\n",
              "        (intermediate): BertIntermediate(\n",
              "          (dense): Linear(in_features=768, out_features=3072, bias=True)\n",
              "        )\n",
              "        (output): BertOutput(\n",
              "          (dense): Linear(in_features=3072, out_features=768, bias=True)\n",
              "          (LayerNorm): LayerNorm((768,), eps=1e-12, elementwise_affine=True)\n",
              "          (dropout): Dropout(p=0.1, inplace=False)\n",
              "        )\n",
              "      )\n",
              "      (1): BertLayer(\n",
              "        (attention): BertAttention(\n",
              "          (self): BertSelfAttention(\n",
              "            (query): Linear(in_features=768, out_features=768, bias=True)\n",
              "            (key): Linear(in_features=768, out_features=768, bias=True)\n",
              "            (value): Linear(in_features=768, out_features=768, bias=True)\n",
              "            (dropout): Dropout(p=0.1, inplace=False)\n",
              "          )\n",
              "          (output): BertSelfOutput(\n",
              "            (dense): Linear(in_features=768, out_features=768, bias=True)\n",
              "            (LayerNorm): LayerNorm((768,), eps=1e-12, elementwise_affine=True)\n",
              "            (dropout): Dropout(p=0.1, inplace=False)\n",
              "          )\n",
              "        )\n",
              "        (intermediate): BertIntermediate(\n",
              "          (dense): Linear(in_features=768, out_features=3072, bias=True)\n",
              "        )\n",
              "        (output): BertOutput(\n",
              "          (dense): Linear(in_features=3072, out_features=768, bias=True)\n",
              "          (LayerNorm): LayerNorm((768,), eps=1e-12, elementwise_affine=True)\n",
              "          (dropout): Dropout(p=0.1, inplace=False)\n",
              "        )\n",
              "      )\n",
              "      (2): BertLayer(\n",
              "        (attention): BertAttention(\n",
              "          (self): BertSelfAttention(\n",
              "            (query): Linear(in_features=768, out_features=768, bias=True)\n",
              "            (key): Linear(in_features=768, out_features=768, bias=True)\n",
              "            (value): Linear(in_features=768, out_features=768, bias=True)\n",
              "            (dropout): Dropout(p=0.1, inplace=False)\n",
              "          )\n",
              "          (output): BertSelfOutput(\n",
              "            (dense): Linear(in_features=768, out_features=768, bias=True)\n",
              "            (LayerNorm): LayerNorm((768,), eps=1e-12, elementwise_affine=True)\n",
              "            (dropout): Dropout(p=0.1, inplace=False)\n",
              "          )\n",
              "        )\n",
              "        (intermediate): BertIntermediate(\n",
              "          (dense): Linear(in_features=768, out_features=3072, bias=True)\n",
              "        )\n",
              "        (output): BertOutput(\n",
              "          (dense): Linear(in_features=3072, out_features=768, bias=True)\n",
              "          (LayerNorm): LayerNorm((768,), eps=1e-12, elementwise_affine=True)\n",
              "          (dropout): Dropout(p=0.1, inplace=False)\n",
              "        )\n",
              "      )\n",
              "      (3): BertLayer(\n",
              "        (attention): BertAttention(\n",
              "          (self): BertSelfAttention(\n",
              "            (query): Linear(in_features=768, out_features=768, bias=True)\n",
              "            (key): Linear(in_features=768, out_features=768, bias=True)\n",
              "            (value): Linear(in_features=768, out_features=768, bias=True)\n",
              "            (dropout): Dropout(p=0.1, inplace=False)\n",
              "          )\n",
              "          (output): BertSelfOutput(\n",
              "            (dense): Linear(in_features=768, out_features=768, bias=True)\n",
              "            (LayerNorm): LayerNorm((768,), eps=1e-12, elementwise_affine=True)\n",
              "            (dropout): Dropout(p=0.1, inplace=False)\n",
              "          )\n",
              "        )\n",
              "        (intermediate): BertIntermediate(\n",
              "          (dense): Linear(in_features=768, out_features=3072, bias=True)\n",
              "        )\n",
              "        (output): BertOutput(\n",
              "          (dense): Linear(in_features=3072, out_features=768, bias=True)\n",
              "          (LayerNorm): LayerNorm((768,), eps=1e-12, elementwise_affine=True)\n",
              "          (dropout): Dropout(p=0.1, inplace=False)\n",
              "        )\n",
              "      )\n",
              "      (4): BertLayer(\n",
              "        (attention): BertAttention(\n",
              "          (self): BertSelfAttention(\n",
              "            (query): Linear(in_features=768, out_features=768, bias=True)\n",
              "            (key): Linear(in_features=768, out_features=768, bias=True)\n",
              "            (value): Linear(in_features=768, out_features=768, bias=True)\n",
              "            (dropout): Dropout(p=0.1, inplace=False)\n",
              "          )\n",
              "          (output): BertSelfOutput(\n",
              "            (dense): Linear(in_features=768, out_features=768, bias=True)\n",
              "            (LayerNorm): LayerNorm((768,), eps=1e-12, elementwise_affine=True)\n",
              "            (dropout): Dropout(p=0.1, inplace=False)\n",
              "          )\n",
              "        )\n",
              "        (intermediate): BertIntermediate(\n",
              "          (dense): Linear(in_features=768, out_features=3072, bias=True)\n",
              "        )\n",
              "        (output): BertOutput(\n",
              "          (dense): Linear(in_features=3072, out_features=768, bias=True)\n",
              "          (LayerNorm): LayerNorm((768,), eps=1e-12, elementwise_affine=True)\n",
              "          (dropout): Dropout(p=0.1, inplace=False)\n",
              "        )\n",
              "      )\n",
              "      (5): BertLayer(\n",
              "        (attention): BertAttention(\n",
              "          (self): BertSelfAttention(\n",
              "            (query): Linear(in_features=768, out_features=768, bias=True)\n",
              "            (key): Linear(in_features=768, out_features=768, bias=True)\n",
              "            (value): Linear(in_features=768, out_features=768, bias=True)\n",
              "            (dropout): Dropout(p=0.1, inplace=False)\n",
              "          )\n",
              "          (output): BertSelfOutput(\n",
              "            (dense): Linear(in_features=768, out_features=768, bias=True)\n",
              "            (LayerNorm): LayerNorm((768,), eps=1e-12, elementwise_affine=True)\n",
              "            (dropout): Dropout(p=0.1, inplace=False)\n",
              "          )\n",
              "        )\n",
              "        (intermediate): BertIntermediate(\n",
              "          (dense): Linear(in_features=768, out_features=3072, bias=True)\n",
              "        )\n",
              "        (output): BertOutput(\n",
              "          (dense): Linear(in_features=3072, out_features=768, bias=True)\n",
              "          (LayerNorm): LayerNorm((768,), eps=1e-12, elementwise_affine=True)\n",
              "          (dropout): Dropout(p=0.1, inplace=False)\n",
              "        )\n",
              "      )\n",
              "      (6): BertLayer(\n",
              "        (attention): BertAttention(\n",
              "          (self): BertSelfAttention(\n",
              "            (query): Linear(in_features=768, out_features=768, bias=True)\n",
              "            (key): Linear(in_features=768, out_features=768, bias=True)\n",
              "            (value): Linear(in_features=768, out_features=768, bias=True)\n",
              "            (dropout): Dropout(p=0.1, inplace=False)\n",
              "          )\n",
              "          (output): BertSelfOutput(\n",
              "            (dense): Linear(in_features=768, out_features=768, bias=True)\n",
              "            (LayerNorm): LayerNorm((768,), eps=1e-12, elementwise_affine=True)\n",
              "            (dropout): Dropout(p=0.1, inplace=False)\n",
              "          )\n",
              "        )\n",
              "        (intermediate): BertIntermediate(\n",
              "          (dense): Linear(in_features=768, out_features=3072, bias=True)\n",
              "        )\n",
              "        (output): BertOutput(\n",
              "          (dense): Linear(in_features=3072, out_features=768, bias=True)\n",
              "          (LayerNorm): LayerNorm((768,), eps=1e-12, elementwise_affine=True)\n",
              "          (dropout): Dropout(p=0.1, inplace=False)\n",
              "        )\n",
              "      )\n",
              "      (7): BertLayer(\n",
              "        (attention): BertAttention(\n",
              "          (self): BertSelfAttention(\n",
              "            (query): Linear(in_features=768, out_features=768, bias=True)\n",
              "            (key): Linear(in_features=768, out_features=768, bias=True)\n",
              "            (value): Linear(in_features=768, out_features=768, bias=True)\n",
              "            (dropout): Dropout(p=0.1, inplace=False)\n",
              "          )\n",
              "          (output): BertSelfOutput(\n",
              "            (dense): Linear(in_features=768, out_features=768, bias=True)\n",
              "            (LayerNorm): LayerNorm((768,), eps=1e-12, elementwise_affine=True)\n",
              "            (dropout): Dropout(p=0.1, inplace=False)\n",
              "          )\n",
              "        )\n",
              "        (intermediate): BertIntermediate(\n",
              "          (dense): Linear(in_features=768, out_features=3072, bias=True)\n",
              "        )\n",
              "        (output): BertOutput(\n",
              "          (dense): Linear(in_features=3072, out_features=768, bias=True)\n",
              "          (LayerNorm): LayerNorm((768,), eps=1e-12, elementwise_affine=True)\n",
              "          (dropout): Dropout(p=0.1, inplace=False)\n",
              "        )\n",
              "      )\n",
              "      (8): BertLayer(\n",
              "        (attention): BertAttention(\n",
              "          (self): BertSelfAttention(\n",
              "            (query): Linear(in_features=768, out_features=768, bias=True)\n",
              "            (key): Linear(in_features=768, out_features=768, bias=True)\n",
              "            (value): Linear(in_features=768, out_features=768, bias=True)\n",
              "            (dropout): Dropout(p=0.1, inplace=False)\n",
              "          )\n",
              "          (output): BertSelfOutput(\n",
              "            (dense): Linear(in_features=768, out_features=768, bias=True)\n",
              "            (LayerNorm): LayerNorm((768,), eps=1e-12, elementwise_affine=True)\n",
              "            (dropout): Dropout(p=0.1, inplace=False)\n",
              "          )\n",
              "        )\n",
              "        (intermediate): BertIntermediate(\n",
              "          (dense): Linear(in_features=768, out_features=3072, bias=True)\n",
              "        )\n",
              "        (output): BertOutput(\n",
              "          (dense): Linear(in_features=3072, out_features=768, bias=True)\n",
              "          (LayerNorm): LayerNorm((768,), eps=1e-12, elementwise_affine=True)\n",
              "          (dropout): Dropout(p=0.1, inplace=False)\n",
              "        )\n",
              "      )\n",
              "      (9): BertLayer(\n",
              "        (attention): BertAttention(\n",
              "          (self): BertSelfAttention(\n",
              "            (query): Linear(in_features=768, out_features=768, bias=True)\n",
              "            (key): Linear(in_features=768, out_features=768, bias=True)\n",
              "            (value): Linear(in_features=768, out_features=768, bias=True)\n",
              "            (dropout): Dropout(p=0.1, inplace=False)\n",
              "          )\n",
              "          (output): BertSelfOutput(\n",
              "            (dense): Linear(in_features=768, out_features=768, bias=True)\n",
              "            (LayerNorm): LayerNorm((768,), eps=1e-12, elementwise_affine=True)\n",
              "            (dropout): Dropout(p=0.1, inplace=False)\n",
              "          )\n",
              "        )\n",
              "        (intermediate): BertIntermediate(\n",
              "          (dense): Linear(in_features=768, out_features=3072, bias=True)\n",
              "        )\n",
              "        (output): BertOutput(\n",
              "          (dense): Linear(in_features=3072, out_features=768, bias=True)\n",
              "          (LayerNorm): LayerNorm((768,), eps=1e-12, elementwise_affine=True)\n",
              "          (dropout): Dropout(p=0.1, inplace=False)\n",
              "        )\n",
              "      )\n",
              "      (10): BertLayer(\n",
              "        (attention): BertAttention(\n",
              "          (self): BertSelfAttention(\n",
              "            (query): Linear(in_features=768, out_features=768, bias=True)\n",
              "            (key): Linear(in_features=768, out_features=768, bias=True)\n",
              "            (value): Linear(in_features=768, out_features=768, bias=True)\n",
              "            (dropout): Dropout(p=0.1, inplace=False)\n",
              "          )\n",
              "          (output): BertSelfOutput(\n",
              "            (dense): Linear(in_features=768, out_features=768, bias=True)\n",
              "            (LayerNorm): LayerNorm((768,), eps=1e-12, elementwise_affine=True)\n",
              "            (dropout): Dropout(p=0.1, inplace=False)\n",
              "          )\n",
              "        )\n",
              "        (intermediate): BertIntermediate(\n",
              "          (dense): Linear(in_features=768, out_features=3072, bias=True)\n",
              "        )\n",
              "        (output): BertOutput(\n",
              "          (dense): Linear(in_features=3072, out_features=768, bias=True)\n",
              "          (LayerNorm): LayerNorm((768,), eps=1e-12, elementwise_affine=True)\n",
              "          (dropout): Dropout(p=0.1, inplace=False)\n",
              "        )\n",
              "      )\n",
              "      (11): BertLayer(\n",
              "        (attention): BertAttention(\n",
              "          (self): BertSelfAttention(\n",
              "            (query): Linear(in_features=768, out_features=768, bias=True)\n",
              "            (key): Linear(in_features=768, out_features=768, bias=True)\n",
              "            (value): Linear(in_features=768, out_features=768, bias=True)\n",
              "            (dropout): Dropout(p=0.1, inplace=False)\n",
              "          )\n",
              "          (output): BertSelfOutput(\n",
              "            (dense): Linear(in_features=768, out_features=768, bias=True)\n",
              "            (LayerNorm): LayerNorm((768,), eps=1e-12, elementwise_affine=True)\n",
              "            (dropout): Dropout(p=0.1, inplace=False)\n",
              "          )\n",
              "        )\n",
              "        (intermediate): BertIntermediate(\n",
              "          (dense): Linear(in_features=768, out_features=3072, bias=True)\n",
              "        )\n",
              "        (output): BertOutput(\n",
              "          (dense): Linear(in_features=3072, out_features=768, bias=True)\n",
              "          (LayerNorm): LayerNorm((768,), eps=1e-12, elementwise_affine=True)\n",
              "          (dropout): Dropout(p=0.1, inplace=False)\n",
              "        )\n",
              "      )\n",
              "    )\n",
              "  )\n",
              "  (pooler): BertPooler(\n",
              "    (dense): Linear(in_features=768, out_features=768, bias=True)\n",
              "    (activation): Tanh()\n",
              "  )\n",
              ")"
            ]
          },
          "metadata": {},
          "execution_count": 10
        }
      ],
      "source": [
        "# 입력 데이터와 BERT 모델을 \"GPU\" 장치로 로드함\n",
        "inputs = inputs.to(device)\n",
        "model_bert.to(device)"
      ]
    },
    {
      "cell_type": "code",
      "execution_count": null,
      "metadata": {
        "id": "_FGm_9rtj1xw"
      },
      "outputs": [],
      "source": [
        "# 입력 데이터를 BERT 모델에 넣어 출력값을 가져옴\n",
        "outputs = model_bert(\n",
        "    **inputs, \n",
        "    output_hidden_states=True\n",
        "    )"
      ]
    },
    {
      "cell_type": "code",
      "execution_count": null,
      "metadata": {
        "id": "I0nB31XAj4M_",
        "colab": {
          "base_uri": "https://localhost:8080/"
        },
        "outputId": "3e316d35-ca7f-4c4e-f11e-207fcd43e31d"
      },
      "outputs": [
        {
          "output_type": "stream",
          "name": "stdout",
          "text": [
            "# layers : 13\n",
            "tensor shape in each layer : torch.Size([2, 28, 768])\n"
          ]
        }
      ],
      "source": [
        "hidden_states = outputs['hidden_states']\n",
        "print(f\"# layers : {len(hidden_states)}\")\n",
        "print(f\"tensor shape in each layer : {hidden_states[-1].shape}\")"
      ]
    },
    {
      "cell_type": "markdown",
      "metadata": {
        "id": "mfy3I4FXj6L_"
      },
      "source": [
        "###  Q1. 1번째 sequence (문장)에서 \"code\"라는 단어의 인덱스를 모두 반환하라.\n",
        "- \"code\" 단어는 총 2개 존재 "
      ]
    },
    {
      "cell_type": "code",
      "execution_count": null,
      "metadata": {
        "id": "_tYG4o_ho1QY",
        "colab": {
          "base_uri": "https://localhost:8080/"
        },
        "outputId": "3c2e7ffa-6d6e-45ff-b44c-f08acd6b1551"
      },
      "outputs": [
        {
          "output_type": "stream",
          "name": "stdout",
          "text": [
            "[13, 15]\n"
          ]
        }
      ],
      "source": [
        "def get_index(seq, word):\n",
        "  index = [n for n,s in enumerate(seq) if s == tokenizer_bert.vocab[word]]\n",
        "  return index\n",
        "\n",
        "# input\n",
        "# seq1: 1번째 sequence\n",
        "# token: 단어\n",
        "seq1 = inputs['input_ids'][0]\n",
        "token = \"code\"\n",
        "\n",
        "# output\n",
        "token_index = get_index(seq1, token)\n",
        "print(token_index)"
      ]
    },
    {
      "cell_type": "markdown",
      "metadata": {
        "id": "xopkXDS2m6uA"
      },
      "source": [
        "### Q2. 1번째 sequence의 1번째 \"code\" 토큰의 embedding을 여러가지 방식으로 구하고자 한다. BERT hidden state를 다음의 방식으로 인덱싱해 embedding을 구하라\n",
        "- 1 layer\n",
        "- last layer\n",
        "- sum all 12 layers\n",
        "- sum last 4 layers\n",
        "- concat last 4 layers\n",
        "- average last 4 layers"
      ]
    },
    {
      "cell_type": "code",
      "execution_count": null,
      "metadata": {
        "id": "to7IOGNwkmUS",
        "colab": {
          "base_uri": "https://localhost:8080/"
        },
        "outputId": "192539fb-3676-4a08-a623-031a07cf9a29"
      },
      "outputs": [
        {
          "output_type": "stream",
          "name": "stdout",
          "text": [
            "torch.Size([768])\n",
            "torch.Size([768])\n",
            "torch.Size([768])\n",
            "torch.Size([768])\n",
            "torch.Size([3072])\n",
            "torch.Size([768])\n"
          ]
        }
      ],
      "source": [
        "# 1 layer\n",
        "first_layer_emb = outputs['hidden_states'][1][0][13]\n",
        "print(first_layer_emb.shape)\n",
        "\n",
        "# last layer\n",
        "last_layer_emb = outputs['hidden_states'][12][0][13]\n",
        "print(last_layer_emb.shape)\n",
        "\n",
        "# sum all 12 layers\n",
        "sum_all_layer_emb = torch.stack(outputs['hidden_states'][1:],dim=0)[:,0,13].sum(dim=0)\n",
        "print(sum_all_layer_emb.shape)\n",
        "\n",
        "# sum last 4 layers\n",
        "sum_last4_layer_emb = torch.stack(outputs['hidden_states'][-4:],dim=0)[:,0,13].sum(dim=0)\n",
        "print(sum_last4_layer_emb.shape)\n",
        "\n",
        "# concat last 4 layers\n",
        "concat_last4_layer_emb = torch.cat(list(torch.stack(outputs['hidden_states'][-4:],dim=0)[:,0,13]),dim=0)\n",
        "print(concat_last4_layer_emb.shape)\n",
        "\n",
        "# mean last 4 layers\n",
        "mean_last4_layer_emb = torch.stack(outputs['hidden_states'][-4:],dim=0)[:,0,13].mean(dim=0)\n",
        "print(mean_last4_layer_emb.shape)"
      ]
    },
    {
      "cell_type": "markdown",
      "metadata": {
        "id": "i0-C0J6o1HHl"
      },
      "source": [
        "## Challenge"
      ]
    },
    {
      "cell_type": "markdown",
      "metadata": {
        "id": "H3aI-M5KubYl"
      },
      "source": [
        "### Q3. `sum_last_four_layer` 방식으로 1번째 sequence의 2개의 \"code\" 토큰 사이의 코사인 유사도를 계산하라"
      ]
    },
    {
      "cell_type": "code",
      "source": [
        "def cosine_similarity_manual(x, y, small_number=1e-8):\n",
        "  result = torch.dot(x,y)/(torch.max(torch.norm(x),small_number*torch.ones_like(torch.norm(x)))*\n",
        "                           torch.max(torch.norm(y),small_number*torch.ones_like(torch.norm(y))))\n",
        "\n",
        "  return result\n",
        "\n",
        "# input\n",
        "# x: 1번째 sequence의 1번째 \"code\"의 sum_last_four_layer 방식 embedding\n",
        "# y: 1번째 sequence의 2번째 \"code\"의 sum_last_four_layer 방식 embedding\n",
        "x = torch.stack(outputs['hidden_states'][-4:],dim=0)[:,0,13].sum(dim=0)\n",
        "y = torch.stack(outputs['hidden_states'][-4:],dim=0)[:,0,15].sum(dim=0)\n",
        "\n",
        "# output\n",
        "score = cosine_similarity_manual(x, y)\n",
        "print(score)"
      ],
      "metadata": {
        "colab": {
          "base_uri": "https://localhost:8080/"
        },
        "id": "2YNHCAyBOEPC",
        "outputId": "cc4c19d4-82ca-4138-c239-f12e8ea01572"
      },
      "execution_count": 46,
      "outputs": [
        {
          "output_type": "stream",
          "name": "stdout",
          "text": [
            "tensor(0.8427, device='cuda:0', grad_fn=<DivBackward0>)\n"
          ]
        }
      ]
    },
    {
      "cell_type": "markdown",
      "metadata": {
        "id": "Wfc_1t2Hw8kB"
      },
      "source": [
        "### Q4. 2번째 sequence에서 \"coding\"이라는 토큰의 위치를 반환하라"
      ]
    },
    {
      "cell_type": "code",
      "execution_count": 47,
      "metadata": {
        "id": "B_OrrpEgw9pX",
        "colab": {
          "base_uri": "https://localhost:8080/"
        },
        "outputId": "f6cf08ca-72ba-4411-9ccd-b357455e82e5"
      },
      "outputs": [
        {
          "output_type": "stream",
          "name": "stdout",
          "text": [
            "[10, 15]\n"
          ]
        }
      ],
      "source": [
        "# Q1과 동일한 문제 \n",
        "\n",
        "# input\n",
        "# seq1: 2번째 sequence\n",
        "# token: 단어\n",
        "seq2 = inputs['input_ids'][1]\n",
        "token = \"coding\"\n",
        "\n",
        "# output\n",
        "# Q1에서 구현한 함수 사용\n",
        "token_index = get_index(seq2, token)\n",
        "print(token_index)"
      ]
    },
    {
      "cell_type": "markdown",
      "metadata": {
        "id": "c11W2Ht-xIwI"
      },
      "source": [
        "### Q5. `concat_last4_layer_emb` 방식으로 2번째 sequence의 2개의 \"coding\" 토큰 사이의 코사인 유사도를 계산하라"
      ]
    },
    {
      "cell_type": "code",
      "execution_count": 48,
      "metadata": {
        "id": "MXr1jtMOxKie",
        "colab": {
          "base_uri": "https://localhost:8080/"
        },
        "outputId": "14389692-8a30-4e47-dca8-4eadede59948"
      },
      "outputs": [
        {
          "output_type": "stream",
          "name": "stdout",
          "text": [
            "tensor(0.8682, device='cuda:0', grad_fn=<DivBackward0>)\n"
          ]
        }
      ],
      "source": [
        "# Q3과 동일한 문제\n",
        "\n",
        "# input\n",
        "# x: 2번째 sequence의 1번째 \"coding\"의 concat_last4_layer_emb\n",
        "# y: 2번째 sequence의 2번째 \"coding\"의 concat_last4_layer_emb\n",
        "x = torch.cat(list(torch.stack(outputs['hidden_states'][-4:],dim=0)[:,1,10]),dim=0)\n",
        "y = torch.cat(list(torch.stack(outputs['hidden_states'][-4:],dim=0)[:,1,15]),dim=0)\n",
        "\n",
        "# output\n",
        "# Q3에서 구현한 함수 사용\n",
        "score = cosine_similarity_manual(x, y)\n",
        "print(score)"
      ]
    },
    {
      "cell_type": "markdown",
      "metadata": {
        "id": "doBSxlvsxlZp"
      },
      "source": [
        "### Q6. 2번째 sequence에서 랜덤하게 토큰 하나를 뽑아보자. 그 랜덤 토큰과 2번째 sequence의 2번째 \"coding\" 토큰의 코사인 유사도를 계산해보자"
      ]
    },
    {
      "cell_type": "code",
      "execution_count": 49,
      "metadata": {
        "id": "PajBEOs5xnOa",
        "colab": {
          "base_uri": "https://localhost:8080/"
        },
        "outputId": "13f84f0a-46af-41ce-bed6-b733777b2f20"
      },
      "outputs": [
        {
          "output_type": "stream",
          "name": "stdout",
          "text": [
            "tensor(0.6103, device='cuda:0', grad_fn=<DivBackward0>)\n"
          ]
        }
      ],
      "source": [
        "# input\n",
        "# random_idx: random 모듈 사용하여 뽑은 랜덤 토큰의 인덱스\n",
        "# random_word: random_idx에 해당하는 단어\n",
        "# x: 2번째 sequence의 2번째 \"coding\" 토큰의 concat_last4_layer_emb\n",
        "# y: 랜덤 토큰의 concat_last4_layer_emb\n",
        "\n",
        "random_idx = torch.randint(len(inputs['input_ids'][1]),size=(1,))[0]\n",
        "random_word = tokenizer_bert.decode(inputs['input_ids'][1][random_idx])\n",
        "\n",
        "x = torch.cat(list(torch.stack(outputs['hidden_states'][-4:],dim=0)[:,1,15]),dim=0)\n",
        "y = torch.cat(list(torch.stack(outputs['hidden_states'][-4:],dim=0)[:,1,random_idx]),dim=0)\n",
        "\n",
        "# output\n",
        "# Q3에서 구현한 함수 사용\n",
        "score = cosine_similarity_manual(x, y)\n",
        "print(score)"
      ]
    },
    {
      "cell_type": "markdown",
      "metadata": {
        "id": "hX9_cFhm1HHm"
      },
      "source": [
        "## Advanced"
      ]
    },
    {
      "cell_type": "markdown",
      "metadata": {
        "id": "ub-hubXwyw9l"
      },
      "source": [
        "### Q7. 1번째 sequence와 2번째 sequence의 문장 유사도를 구해보자. 문장의 엠베딩은 마지막 레이어의 첫번째 토큰 ('[CLS]')으로 생성한다."
      ]
    },
    {
      "cell_type": "code",
      "execution_count": 50,
      "metadata": {
        "id": "JpvPDM_Oyx7I",
        "colab": {
          "base_uri": "https://localhost:8080/"
        },
        "outputId": "678bd1cd-f153-497a-be8d-e746f9e403c4"
      },
      "outputs": [
        {
          "output_type": "stream",
          "name": "stdout",
          "text": [
            "tensor(0.8130, device='cuda:0', grad_fn=<DivBackward0>)\n"
          ]
        }
      ],
      "source": [
        "# input\n",
        "# x: 1번째 sequence의 embedding\n",
        "# y: 2번째 sequence의 embedding\n",
        "x = outputs['last_hidden_state'][0][0]\n",
        "y = outputs['last_hidden_state'][1][0]\n",
        "\n",
        "# output\n",
        "# Q3에서 구현한 함수 사용\n",
        "score =  cosine_similarity_manual(x, y)\n",
        "print(score)"
      ]
    }
  ],
  "metadata": {
    "colab": {
      "collapsed_sections": [],
      "name": "정태호 - Week2_1_assignment.ipynb",
      "provenance": [],
      "machine_shape": "hm"
    },
    "kernelspec": {
      "display_name": "Python 3",
      "name": "python3"
    },
    "language_info": {
      "name": "python"
    },
    "accelerator": "GPU",
    "widgets": {
      "application/vnd.jupyter.widget-state+json": {
        "cf596ea27765448cbd3a138cdd11174a": {
          "model_module": "@jupyter-widgets/controls",
          "model_name": "HBoxModel",
          "model_module_version": "1.5.0",
          "state": {
            "_view_name": "HBoxView",
            "_dom_classes": [],
            "_model_name": "HBoxModel",
            "_view_module": "@jupyter-widgets/controls",
            "_model_module_version": "1.5.0",
            "_view_count": null,
            "_view_module_version": "1.5.0",
            "box_style": "",
            "layout": "IPY_MODEL_7059a4e5e88b44f19d6a04667912ec03",
            "_model_module": "@jupyter-widgets/controls",
            "children": [
              "IPY_MODEL_a7eedb49f0424137a2d005e180944176",
              "IPY_MODEL_88af472b794244c7b32fb99751abc1eb",
              "IPY_MODEL_c1a9faa6ae4e4dfb8e7f973f33a21b56"
            ]
          }
        },
        "7059a4e5e88b44f19d6a04667912ec03": {
          "model_module": "@jupyter-widgets/base",
          "model_name": "LayoutModel",
          "model_module_version": "1.2.0",
          "state": {
            "_view_name": "LayoutView",
            "grid_template_rows": null,
            "right": null,
            "justify_content": null,
            "_view_module": "@jupyter-widgets/base",
            "overflow": null,
            "_model_module_version": "1.2.0",
            "_view_count": null,
            "flex_flow": null,
            "width": null,
            "min_width": null,
            "border": null,
            "align_items": null,
            "bottom": null,
            "_model_module": "@jupyter-widgets/base",
            "top": null,
            "grid_column": null,
            "overflow_y": null,
            "overflow_x": null,
            "grid_auto_flow": null,
            "grid_area": null,
            "grid_template_columns": null,
            "flex": null,
            "_model_name": "LayoutModel",
            "justify_items": null,
            "grid_row": null,
            "max_height": null,
            "align_content": null,
            "visibility": null,
            "align_self": null,
            "height": null,
            "min_height": null,
            "padding": null,
            "grid_auto_rows": null,
            "grid_gap": null,
            "max_width": null,
            "order": null,
            "_view_module_version": "1.2.0",
            "grid_template_areas": null,
            "object_position": null,
            "object_fit": null,
            "grid_auto_columns": null,
            "margin": null,
            "display": null,
            "left": null
          }
        },
        "a7eedb49f0424137a2d005e180944176": {
          "model_module": "@jupyter-widgets/controls",
          "model_name": "HTMLModel",
          "model_module_version": "1.5.0",
          "state": {
            "_view_name": "HTMLView",
            "style": "IPY_MODEL_f69c7b6f79ae497a929f696864cfe08e",
            "_dom_classes": [],
            "description": "",
            "_model_name": "HTMLModel",
            "placeholder": "​",
            "_view_module": "@jupyter-widgets/controls",
            "_model_module_version": "1.5.0",
            "value": "Downloading: 100%",
            "_view_count": null,
            "_view_module_version": "1.5.0",
            "description_tooltip": null,
            "_model_module": "@jupyter-widgets/controls",
            "layout": "IPY_MODEL_4a10cee8279d4dc5ba888077faa0685e"
          }
        },
        "88af472b794244c7b32fb99751abc1eb": {
          "model_module": "@jupyter-widgets/controls",
          "model_name": "FloatProgressModel",
          "model_module_version": "1.5.0",
          "state": {
            "_view_name": "ProgressView",
            "style": "IPY_MODEL_721b38976cb1447da15cceff6b05cdcb",
            "_dom_classes": [],
            "description": "",
            "_model_name": "FloatProgressModel",
            "bar_style": "success",
            "max": 29,
            "_view_module": "@jupyter-widgets/controls",
            "_model_module_version": "1.5.0",
            "value": 29,
            "_view_count": null,
            "_view_module_version": "1.5.0",
            "orientation": "horizontal",
            "min": 0,
            "description_tooltip": null,
            "_model_module": "@jupyter-widgets/controls",
            "layout": "IPY_MODEL_752fa80111e047418f57cdccd2c662c6"
          }
        },
        "c1a9faa6ae4e4dfb8e7f973f33a21b56": {
          "model_module": "@jupyter-widgets/controls",
          "model_name": "HTMLModel",
          "model_module_version": "1.5.0",
          "state": {
            "_view_name": "HTMLView",
            "style": "IPY_MODEL_03605f23b24a40a184ebc1b26882818d",
            "_dom_classes": [],
            "description": "",
            "_model_name": "HTMLModel",
            "placeholder": "​",
            "_view_module": "@jupyter-widgets/controls",
            "_model_module_version": "1.5.0",
            "value": " 29.0/29.0 [00:00&lt;00:00, 1.14kB/s]",
            "_view_count": null,
            "_view_module_version": "1.5.0",
            "description_tooltip": null,
            "_model_module": "@jupyter-widgets/controls",
            "layout": "IPY_MODEL_915abaed3a55435ca4ad5a02a66f4a59"
          }
        },
        "f69c7b6f79ae497a929f696864cfe08e": {
          "model_module": "@jupyter-widgets/controls",
          "model_name": "DescriptionStyleModel",
          "model_module_version": "1.5.0",
          "state": {
            "_view_name": "StyleView",
            "_model_name": "DescriptionStyleModel",
            "description_width": "",
            "_view_module": "@jupyter-widgets/base",
            "_model_module_version": "1.5.0",
            "_view_count": null,
            "_view_module_version": "1.2.0",
            "_model_module": "@jupyter-widgets/controls"
          }
        },
        "4a10cee8279d4dc5ba888077faa0685e": {
          "model_module": "@jupyter-widgets/base",
          "model_name": "LayoutModel",
          "model_module_version": "1.2.0",
          "state": {
            "_view_name": "LayoutView",
            "grid_template_rows": null,
            "right": null,
            "justify_content": null,
            "_view_module": "@jupyter-widgets/base",
            "overflow": null,
            "_model_module_version": "1.2.0",
            "_view_count": null,
            "flex_flow": null,
            "width": null,
            "min_width": null,
            "border": null,
            "align_items": null,
            "bottom": null,
            "_model_module": "@jupyter-widgets/base",
            "top": null,
            "grid_column": null,
            "overflow_y": null,
            "overflow_x": null,
            "grid_auto_flow": null,
            "grid_area": null,
            "grid_template_columns": null,
            "flex": null,
            "_model_name": "LayoutModel",
            "justify_items": null,
            "grid_row": null,
            "max_height": null,
            "align_content": null,
            "visibility": null,
            "align_self": null,
            "height": null,
            "min_height": null,
            "padding": null,
            "grid_auto_rows": null,
            "grid_gap": null,
            "max_width": null,
            "order": null,
            "_view_module_version": "1.2.0",
            "grid_template_areas": null,
            "object_position": null,
            "object_fit": null,
            "grid_auto_columns": null,
            "margin": null,
            "display": null,
            "left": null
          }
        },
        "721b38976cb1447da15cceff6b05cdcb": {
          "model_module": "@jupyter-widgets/controls",
          "model_name": "ProgressStyleModel",
          "model_module_version": "1.5.0",
          "state": {
            "_view_name": "StyleView",
            "_model_name": "ProgressStyleModel",
            "description_width": "",
            "_view_module": "@jupyter-widgets/base",
            "_model_module_version": "1.5.0",
            "_view_count": null,
            "_view_module_version": "1.2.0",
            "bar_color": null,
            "_model_module": "@jupyter-widgets/controls"
          }
        },
        "752fa80111e047418f57cdccd2c662c6": {
          "model_module": "@jupyter-widgets/base",
          "model_name": "LayoutModel",
          "model_module_version": "1.2.0",
          "state": {
            "_view_name": "LayoutView",
            "grid_template_rows": null,
            "right": null,
            "justify_content": null,
            "_view_module": "@jupyter-widgets/base",
            "overflow": null,
            "_model_module_version": "1.2.0",
            "_view_count": null,
            "flex_flow": null,
            "width": null,
            "min_width": null,
            "border": null,
            "align_items": null,
            "bottom": null,
            "_model_module": "@jupyter-widgets/base",
            "top": null,
            "grid_column": null,
            "overflow_y": null,
            "overflow_x": null,
            "grid_auto_flow": null,
            "grid_area": null,
            "grid_template_columns": null,
            "flex": null,
            "_model_name": "LayoutModel",
            "justify_items": null,
            "grid_row": null,
            "max_height": null,
            "align_content": null,
            "visibility": null,
            "align_self": null,
            "height": null,
            "min_height": null,
            "padding": null,
            "grid_auto_rows": null,
            "grid_gap": null,
            "max_width": null,
            "order": null,
            "_view_module_version": "1.2.0",
            "grid_template_areas": null,
            "object_position": null,
            "object_fit": null,
            "grid_auto_columns": null,
            "margin": null,
            "display": null,
            "left": null
          }
        },
        "03605f23b24a40a184ebc1b26882818d": {
          "model_module": "@jupyter-widgets/controls",
          "model_name": "DescriptionStyleModel",
          "model_module_version": "1.5.0",
          "state": {
            "_view_name": "StyleView",
            "_model_name": "DescriptionStyleModel",
            "description_width": "",
            "_view_module": "@jupyter-widgets/base",
            "_model_module_version": "1.5.0",
            "_view_count": null,
            "_view_module_version": "1.2.0",
            "_model_module": "@jupyter-widgets/controls"
          }
        },
        "915abaed3a55435ca4ad5a02a66f4a59": {
          "model_module": "@jupyter-widgets/base",
          "model_name": "LayoutModel",
          "model_module_version": "1.2.0",
          "state": {
            "_view_name": "LayoutView",
            "grid_template_rows": null,
            "right": null,
            "justify_content": null,
            "_view_module": "@jupyter-widgets/base",
            "overflow": null,
            "_model_module_version": "1.2.0",
            "_view_count": null,
            "flex_flow": null,
            "width": null,
            "min_width": null,
            "border": null,
            "align_items": null,
            "bottom": null,
            "_model_module": "@jupyter-widgets/base",
            "top": null,
            "grid_column": null,
            "overflow_y": null,
            "overflow_x": null,
            "grid_auto_flow": null,
            "grid_area": null,
            "grid_template_columns": null,
            "flex": null,
            "_model_name": "LayoutModel",
            "justify_items": null,
            "grid_row": null,
            "max_height": null,
            "align_content": null,
            "visibility": null,
            "align_self": null,
            "height": null,
            "min_height": null,
            "padding": null,
            "grid_auto_rows": null,
            "grid_gap": null,
            "max_width": null,
            "order": null,
            "_view_module_version": "1.2.0",
            "grid_template_areas": null,
            "object_position": null,
            "object_fit": null,
            "grid_auto_columns": null,
            "margin": null,
            "display": null,
            "left": null
          }
        },
        "848d7eece4b548159608feb4f329e278": {
          "model_module": "@jupyter-widgets/controls",
          "model_name": "HBoxModel",
          "model_module_version": "1.5.0",
          "state": {
            "_view_name": "HBoxView",
            "_dom_classes": [],
            "_model_name": "HBoxModel",
            "_view_module": "@jupyter-widgets/controls",
            "_model_module_version": "1.5.0",
            "_view_count": null,
            "_view_module_version": "1.5.0",
            "box_style": "",
            "layout": "IPY_MODEL_e5da382d2c9742108dfcd1450ebcd458",
            "_model_module": "@jupyter-widgets/controls",
            "children": [
              "IPY_MODEL_12c631f6d6ed40d394d4e3171a658b5c",
              "IPY_MODEL_e554fcf839b34750b6d9482661cc6c82",
              "IPY_MODEL_f4ee96c943754680ab40c2d3299f43b7"
            ]
          }
        },
        "e5da382d2c9742108dfcd1450ebcd458": {
          "model_module": "@jupyter-widgets/base",
          "model_name": "LayoutModel",
          "model_module_version": "1.2.0",
          "state": {
            "_view_name": "LayoutView",
            "grid_template_rows": null,
            "right": null,
            "justify_content": null,
            "_view_module": "@jupyter-widgets/base",
            "overflow": null,
            "_model_module_version": "1.2.0",
            "_view_count": null,
            "flex_flow": null,
            "width": null,
            "min_width": null,
            "border": null,
            "align_items": null,
            "bottom": null,
            "_model_module": "@jupyter-widgets/base",
            "top": null,
            "grid_column": null,
            "overflow_y": null,
            "overflow_x": null,
            "grid_auto_flow": null,
            "grid_area": null,
            "grid_template_columns": null,
            "flex": null,
            "_model_name": "LayoutModel",
            "justify_items": null,
            "grid_row": null,
            "max_height": null,
            "align_content": null,
            "visibility": null,
            "align_self": null,
            "height": null,
            "min_height": null,
            "padding": null,
            "grid_auto_rows": null,
            "grid_gap": null,
            "max_width": null,
            "order": null,
            "_view_module_version": "1.2.0",
            "grid_template_areas": null,
            "object_position": null,
            "object_fit": null,
            "grid_auto_columns": null,
            "margin": null,
            "display": null,
            "left": null
          }
        },
        "12c631f6d6ed40d394d4e3171a658b5c": {
          "model_module": "@jupyter-widgets/controls",
          "model_name": "HTMLModel",
          "model_module_version": "1.5.0",
          "state": {
            "_view_name": "HTMLView",
            "style": "IPY_MODEL_94281ef729094b91bc12af64eb067e2c",
            "_dom_classes": [],
            "description": "",
            "_model_name": "HTMLModel",
            "placeholder": "​",
            "_view_module": "@jupyter-widgets/controls",
            "_model_module_version": "1.5.0",
            "value": "Downloading: 100%",
            "_view_count": null,
            "_view_module_version": "1.5.0",
            "description_tooltip": null,
            "_model_module": "@jupyter-widgets/controls",
            "layout": "IPY_MODEL_d52f8702f6304a88b0ea7dde95dbe30b"
          }
        },
        "e554fcf839b34750b6d9482661cc6c82": {
          "model_module": "@jupyter-widgets/controls",
          "model_name": "FloatProgressModel",
          "model_module_version": "1.5.0",
          "state": {
            "_view_name": "ProgressView",
            "style": "IPY_MODEL_1aedb9e11ae94ca18c13cd7659f271ae",
            "_dom_classes": [],
            "description": "",
            "_model_name": "FloatProgressModel",
            "bar_style": "success",
            "max": 213450,
            "_view_module": "@jupyter-widgets/controls",
            "_model_module_version": "1.5.0",
            "value": 213450,
            "_view_count": null,
            "_view_module_version": "1.5.0",
            "orientation": "horizontal",
            "min": 0,
            "description_tooltip": null,
            "_model_module": "@jupyter-widgets/controls",
            "layout": "IPY_MODEL_95bec60f7e5b43cfaa8eeaf15dee90d7"
          }
        },
        "f4ee96c943754680ab40c2d3299f43b7": {
          "model_module": "@jupyter-widgets/controls",
          "model_name": "HTMLModel",
          "model_module_version": "1.5.0",
          "state": {
            "_view_name": "HTMLView",
            "style": "IPY_MODEL_89b0e0d7b13c4787b08e71688337aa0c",
            "_dom_classes": [],
            "description": "",
            "_model_name": "HTMLModel",
            "placeholder": "​",
            "_view_module": "@jupyter-widgets/controls",
            "_model_module_version": "1.5.0",
            "value": " 208k/208k [00:00&lt;00:00, 611kB/s]",
            "_view_count": null,
            "_view_module_version": "1.5.0",
            "description_tooltip": null,
            "_model_module": "@jupyter-widgets/controls",
            "layout": "IPY_MODEL_aac8db05e6b5457ab5dd8a77eec904bb"
          }
        },
        "94281ef729094b91bc12af64eb067e2c": {
          "model_module": "@jupyter-widgets/controls",
          "model_name": "DescriptionStyleModel",
          "model_module_version": "1.5.0",
          "state": {
            "_view_name": "StyleView",
            "_model_name": "DescriptionStyleModel",
            "description_width": "",
            "_view_module": "@jupyter-widgets/base",
            "_model_module_version": "1.5.0",
            "_view_count": null,
            "_view_module_version": "1.2.0",
            "_model_module": "@jupyter-widgets/controls"
          }
        },
        "d52f8702f6304a88b0ea7dde95dbe30b": {
          "model_module": "@jupyter-widgets/base",
          "model_name": "LayoutModel",
          "model_module_version": "1.2.0",
          "state": {
            "_view_name": "LayoutView",
            "grid_template_rows": null,
            "right": null,
            "justify_content": null,
            "_view_module": "@jupyter-widgets/base",
            "overflow": null,
            "_model_module_version": "1.2.0",
            "_view_count": null,
            "flex_flow": null,
            "width": null,
            "min_width": null,
            "border": null,
            "align_items": null,
            "bottom": null,
            "_model_module": "@jupyter-widgets/base",
            "top": null,
            "grid_column": null,
            "overflow_y": null,
            "overflow_x": null,
            "grid_auto_flow": null,
            "grid_area": null,
            "grid_template_columns": null,
            "flex": null,
            "_model_name": "LayoutModel",
            "justify_items": null,
            "grid_row": null,
            "max_height": null,
            "align_content": null,
            "visibility": null,
            "align_self": null,
            "height": null,
            "min_height": null,
            "padding": null,
            "grid_auto_rows": null,
            "grid_gap": null,
            "max_width": null,
            "order": null,
            "_view_module_version": "1.2.0",
            "grid_template_areas": null,
            "object_position": null,
            "object_fit": null,
            "grid_auto_columns": null,
            "margin": null,
            "display": null,
            "left": null
          }
        },
        "1aedb9e11ae94ca18c13cd7659f271ae": {
          "model_module": "@jupyter-widgets/controls",
          "model_name": "ProgressStyleModel",
          "model_module_version": "1.5.0",
          "state": {
            "_view_name": "StyleView",
            "_model_name": "ProgressStyleModel",
            "description_width": "",
            "_view_module": "@jupyter-widgets/base",
            "_model_module_version": "1.5.0",
            "_view_count": null,
            "_view_module_version": "1.2.0",
            "bar_color": null,
            "_model_module": "@jupyter-widgets/controls"
          }
        },
        "95bec60f7e5b43cfaa8eeaf15dee90d7": {
          "model_module": "@jupyter-widgets/base",
          "model_name": "LayoutModel",
          "model_module_version": "1.2.0",
          "state": {
            "_view_name": "LayoutView",
            "grid_template_rows": null,
            "right": null,
            "justify_content": null,
            "_view_module": "@jupyter-widgets/base",
            "overflow": null,
            "_model_module_version": "1.2.0",
            "_view_count": null,
            "flex_flow": null,
            "width": null,
            "min_width": null,
            "border": null,
            "align_items": null,
            "bottom": null,
            "_model_module": "@jupyter-widgets/base",
            "top": null,
            "grid_column": null,
            "overflow_y": null,
            "overflow_x": null,
            "grid_auto_flow": null,
            "grid_area": null,
            "grid_template_columns": null,
            "flex": null,
            "_model_name": "LayoutModel",
            "justify_items": null,
            "grid_row": null,
            "max_height": null,
            "align_content": null,
            "visibility": null,
            "align_self": null,
            "height": null,
            "min_height": null,
            "padding": null,
            "grid_auto_rows": null,
            "grid_gap": null,
            "max_width": null,
            "order": null,
            "_view_module_version": "1.2.0",
            "grid_template_areas": null,
            "object_position": null,
            "object_fit": null,
            "grid_auto_columns": null,
            "margin": null,
            "display": null,
            "left": null
          }
        },
        "89b0e0d7b13c4787b08e71688337aa0c": {
          "model_module": "@jupyter-widgets/controls",
          "model_name": "DescriptionStyleModel",
          "model_module_version": "1.5.0",
          "state": {
            "_view_name": "StyleView",
            "_model_name": "DescriptionStyleModel",
            "description_width": "",
            "_view_module": "@jupyter-widgets/base",
            "_model_module_version": "1.5.0",
            "_view_count": null,
            "_view_module_version": "1.2.0",
            "_model_module": "@jupyter-widgets/controls"
          }
        },
        "aac8db05e6b5457ab5dd8a77eec904bb": {
          "model_module": "@jupyter-widgets/base",
          "model_name": "LayoutModel",
          "model_module_version": "1.2.0",
          "state": {
            "_view_name": "LayoutView",
            "grid_template_rows": null,
            "right": null,
            "justify_content": null,
            "_view_module": "@jupyter-widgets/base",
            "overflow": null,
            "_model_module_version": "1.2.0",
            "_view_count": null,
            "flex_flow": null,
            "width": null,
            "min_width": null,
            "border": null,
            "align_items": null,
            "bottom": null,
            "_model_module": "@jupyter-widgets/base",
            "top": null,
            "grid_column": null,
            "overflow_y": null,
            "overflow_x": null,
            "grid_auto_flow": null,
            "grid_area": null,
            "grid_template_columns": null,
            "flex": null,
            "_model_name": "LayoutModel",
            "justify_items": null,
            "grid_row": null,
            "max_height": null,
            "align_content": null,
            "visibility": null,
            "align_self": null,
            "height": null,
            "min_height": null,
            "padding": null,
            "grid_auto_rows": null,
            "grid_gap": null,
            "max_width": null,
            "order": null,
            "_view_module_version": "1.2.0",
            "grid_template_areas": null,
            "object_position": null,
            "object_fit": null,
            "grid_auto_columns": null,
            "margin": null,
            "display": null,
            "left": null
          }
        },
        "e8d655a5b6e0465fb72c7aa983015755": {
          "model_module": "@jupyter-widgets/controls",
          "model_name": "HBoxModel",
          "model_module_version": "1.5.0",
          "state": {
            "_view_name": "HBoxView",
            "_dom_classes": [],
            "_model_name": "HBoxModel",
            "_view_module": "@jupyter-widgets/controls",
            "_model_module_version": "1.5.0",
            "_view_count": null,
            "_view_module_version": "1.5.0",
            "box_style": "",
            "layout": "IPY_MODEL_aeb0631c72f54bc28eaa0c831510a825",
            "_model_module": "@jupyter-widgets/controls",
            "children": [
              "IPY_MODEL_81220493730847f088d52708f5cd5c5c",
              "IPY_MODEL_f5271830583b47068a5849dbe14d8014",
              "IPY_MODEL_005350254d604247aa8936376ff1a0db"
            ]
          }
        },
        "aeb0631c72f54bc28eaa0c831510a825": {
          "model_module": "@jupyter-widgets/base",
          "model_name": "LayoutModel",
          "model_module_version": "1.2.0",
          "state": {
            "_view_name": "LayoutView",
            "grid_template_rows": null,
            "right": null,
            "justify_content": null,
            "_view_module": "@jupyter-widgets/base",
            "overflow": null,
            "_model_module_version": "1.2.0",
            "_view_count": null,
            "flex_flow": null,
            "width": null,
            "min_width": null,
            "border": null,
            "align_items": null,
            "bottom": null,
            "_model_module": "@jupyter-widgets/base",
            "top": null,
            "grid_column": null,
            "overflow_y": null,
            "overflow_x": null,
            "grid_auto_flow": null,
            "grid_area": null,
            "grid_template_columns": null,
            "flex": null,
            "_model_name": "LayoutModel",
            "justify_items": null,
            "grid_row": null,
            "max_height": null,
            "align_content": null,
            "visibility": null,
            "align_self": null,
            "height": null,
            "min_height": null,
            "padding": null,
            "grid_auto_rows": null,
            "grid_gap": null,
            "max_width": null,
            "order": null,
            "_view_module_version": "1.2.0",
            "grid_template_areas": null,
            "object_position": null,
            "object_fit": null,
            "grid_auto_columns": null,
            "margin": null,
            "display": null,
            "left": null
          }
        },
        "81220493730847f088d52708f5cd5c5c": {
          "model_module": "@jupyter-widgets/controls",
          "model_name": "HTMLModel",
          "model_module_version": "1.5.0",
          "state": {
            "_view_name": "HTMLView",
            "style": "IPY_MODEL_b2d0f69ccf6b462eaac9c62a09f46f80",
            "_dom_classes": [],
            "description": "",
            "_model_name": "HTMLModel",
            "placeholder": "​",
            "_view_module": "@jupyter-widgets/controls",
            "_model_module_version": "1.5.0",
            "value": "Downloading: 100%",
            "_view_count": null,
            "_view_module_version": "1.5.0",
            "description_tooltip": null,
            "_model_module": "@jupyter-widgets/controls",
            "layout": "IPY_MODEL_1cb160eb93b642de9913bb0c0f05505f"
          }
        },
        "f5271830583b47068a5849dbe14d8014": {
          "model_module": "@jupyter-widgets/controls",
          "model_name": "FloatProgressModel",
          "model_module_version": "1.5.0",
          "state": {
            "_view_name": "ProgressView",
            "style": "IPY_MODEL_7599e00d4a194548a31cc450e31f552a",
            "_dom_classes": [],
            "description": "",
            "_model_name": "FloatProgressModel",
            "bar_style": "success",
            "max": 435797,
            "_view_module": "@jupyter-widgets/controls",
            "_model_module_version": "1.5.0",
            "value": 435797,
            "_view_count": null,
            "_view_module_version": "1.5.0",
            "orientation": "horizontal",
            "min": 0,
            "description_tooltip": null,
            "_model_module": "@jupyter-widgets/controls",
            "layout": "IPY_MODEL_81022d8c85a04e2f922cdf37133303d5"
          }
        },
        "005350254d604247aa8936376ff1a0db": {
          "model_module": "@jupyter-widgets/controls",
          "model_name": "HTMLModel",
          "model_module_version": "1.5.0",
          "state": {
            "_view_name": "HTMLView",
            "style": "IPY_MODEL_8699e137f5da4d15a32c8579385d66f6",
            "_dom_classes": [],
            "description": "",
            "_model_name": "HTMLModel",
            "placeholder": "​",
            "_view_module": "@jupyter-widgets/controls",
            "_model_module_version": "1.5.0",
            "value": " 426k/426k [00:00&lt;00:00, 840kB/s]",
            "_view_count": null,
            "_view_module_version": "1.5.0",
            "description_tooltip": null,
            "_model_module": "@jupyter-widgets/controls",
            "layout": "IPY_MODEL_d163518229e04564a1c69f0a4531ab2e"
          }
        },
        "b2d0f69ccf6b462eaac9c62a09f46f80": {
          "model_module": "@jupyter-widgets/controls",
          "model_name": "DescriptionStyleModel",
          "model_module_version": "1.5.0",
          "state": {
            "_view_name": "StyleView",
            "_model_name": "DescriptionStyleModel",
            "description_width": "",
            "_view_module": "@jupyter-widgets/base",
            "_model_module_version": "1.5.0",
            "_view_count": null,
            "_view_module_version": "1.2.0",
            "_model_module": "@jupyter-widgets/controls"
          }
        },
        "1cb160eb93b642de9913bb0c0f05505f": {
          "model_module": "@jupyter-widgets/base",
          "model_name": "LayoutModel",
          "model_module_version": "1.2.0",
          "state": {
            "_view_name": "LayoutView",
            "grid_template_rows": null,
            "right": null,
            "justify_content": null,
            "_view_module": "@jupyter-widgets/base",
            "overflow": null,
            "_model_module_version": "1.2.0",
            "_view_count": null,
            "flex_flow": null,
            "width": null,
            "min_width": null,
            "border": null,
            "align_items": null,
            "bottom": null,
            "_model_module": "@jupyter-widgets/base",
            "top": null,
            "grid_column": null,
            "overflow_y": null,
            "overflow_x": null,
            "grid_auto_flow": null,
            "grid_area": null,
            "grid_template_columns": null,
            "flex": null,
            "_model_name": "LayoutModel",
            "justify_items": null,
            "grid_row": null,
            "max_height": null,
            "align_content": null,
            "visibility": null,
            "align_self": null,
            "height": null,
            "min_height": null,
            "padding": null,
            "grid_auto_rows": null,
            "grid_gap": null,
            "max_width": null,
            "order": null,
            "_view_module_version": "1.2.0",
            "grid_template_areas": null,
            "object_position": null,
            "object_fit": null,
            "grid_auto_columns": null,
            "margin": null,
            "display": null,
            "left": null
          }
        },
        "7599e00d4a194548a31cc450e31f552a": {
          "model_module": "@jupyter-widgets/controls",
          "model_name": "ProgressStyleModel",
          "model_module_version": "1.5.0",
          "state": {
            "_view_name": "StyleView",
            "_model_name": "ProgressStyleModel",
            "description_width": "",
            "_view_module": "@jupyter-widgets/base",
            "_model_module_version": "1.5.0",
            "_view_count": null,
            "_view_module_version": "1.2.0",
            "bar_color": null,
            "_model_module": "@jupyter-widgets/controls"
          }
        },
        "81022d8c85a04e2f922cdf37133303d5": {
          "model_module": "@jupyter-widgets/base",
          "model_name": "LayoutModel",
          "model_module_version": "1.2.0",
          "state": {
            "_view_name": "LayoutView",
            "grid_template_rows": null,
            "right": null,
            "justify_content": null,
            "_view_module": "@jupyter-widgets/base",
            "overflow": null,
            "_model_module_version": "1.2.0",
            "_view_count": null,
            "flex_flow": null,
            "width": null,
            "min_width": null,
            "border": null,
            "align_items": null,
            "bottom": null,
            "_model_module": "@jupyter-widgets/base",
            "top": null,
            "grid_column": null,
            "overflow_y": null,
            "overflow_x": null,
            "grid_auto_flow": null,
            "grid_area": null,
            "grid_template_columns": null,
            "flex": null,
            "_model_name": "LayoutModel",
            "justify_items": null,
            "grid_row": null,
            "max_height": null,
            "align_content": null,
            "visibility": null,
            "align_self": null,
            "height": null,
            "min_height": null,
            "padding": null,
            "grid_auto_rows": null,
            "grid_gap": null,
            "max_width": null,
            "order": null,
            "_view_module_version": "1.2.0",
            "grid_template_areas": null,
            "object_position": null,
            "object_fit": null,
            "grid_auto_columns": null,
            "margin": null,
            "display": null,
            "left": null
          }
        },
        "8699e137f5da4d15a32c8579385d66f6": {
          "model_module": "@jupyter-widgets/controls",
          "model_name": "DescriptionStyleModel",
          "model_module_version": "1.5.0",
          "state": {
            "_view_name": "StyleView",
            "_model_name": "DescriptionStyleModel",
            "description_width": "",
            "_view_module": "@jupyter-widgets/base",
            "_model_module_version": "1.5.0",
            "_view_count": null,
            "_view_module_version": "1.2.0",
            "_model_module": "@jupyter-widgets/controls"
          }
        },
        "d163518229e04564a1c69f0a4531ab2e": {
          "model_module": "@jupyter-widgets/base",
          "model_name": "LayoutModel",
          "model_module_version": "1.2.0",
          "state": {
            "_view_name": "LayoutView",
            "grid_template_rows": null,
            "right": null,
            "justify_content": null,
            "_view_module": "@jupyter-widgets/base",
            "overflow": null,
            "_model_module_version": "1.2.0",
            "_view_count": null,
            "flex_flow": null,
            "width": null,
            "min_width": null,
            "border": null,
            "align_items": null,
            "bottom": null,
            "_model_module": "@jupyter-widgets/base",
            "top": null,
            "grid_column": null,
            "overflow_y": null,
            "overflow_x": null,
            "grid_auto_flow": null,
            "grid_area": null,
            "grid_template_columns": null,
            "flex": null,
            "_model_name": "LayoutModel",
            "justify_items": null,
            "grid_row": null,
            "max_height": null,
            "align_content": null,
            "visibility": null,
            "align_self": null,
            "height": null,
            "min_height": null,
            "padding": null,
            "grid_auto_rows": null,
            "grid_gap": null,
            "max_width": null,
            "order": null,
            "_view_module_version": "1.2.0",
            "grid_template_areas": null,
            "object_position": null,
            "object_fit": null,
            "grid_auto_columns": null,
            "margin": null,
            "display": null,
            "left": null
          }
        },
        "842ab5a918454d25972c7342d8c7789c": {
          "model_module": "@jupyter-widgets/controls",
          "model_name": "HBoxModel",
          "model_module_version": "1.5.0",
          "state": {
            "_view_name": "HBoxView",
            "_dom_classes": [],
            "_model_name": "HBoxModel",
            "_view_module": "@jupyter-widgets/controls",
            "_model_module_version": "1.5.0",
            "_view_count": null,
            "_view_module_version": "1.5.0",
            "box_style": "",
            "layout": "IPY_MODEL_b054e7c6bf314cb7853aa052d148b6ab",
            "_model_module": "@jupyter-widgets/controls",
            "children": [
              "IPY_MODEL_ab76681062234aa1a18f6ae93819e6d9",
              "IPY_MODEL_2dd51cfb62c5491a844f252e29d3825d",
              "IPY_MODEL_84a76eacb77e49e09998f6e3bca2ff2a"
            ]
          }
        },
        "b054e7c6bf314cb7853aa052d148b6ab": {
          "model_module": "@jupyter-widgets/base",
          "model_name": "LayoutModel",
          "model_module_version": "1.2.0",
          "state": {
            "_view_name": "LayoutView",
            "grid_template_rows": null,
            "right": null,
            "justify_content": null,
            "_view_module": "@jupyter-widgets/base",
            "overflow": null,
            "_model_module_version": "1.2.0",
            "_view_count": null,
            "flex_flow": null,
            "width": null,
            "min_width": null,
            "border": null,
            "align_items": null,
            "bottom": null,
            "_model_module": "@jupyter-widgets/base",
            "top": null,
            "grid_column": null,
            "overflow_y": null,
            "overflow_x": null,
            "grid_auto_flow": null,
            "grid_area": null,
            "grid_template_columns": null,
            "flex": null,
            "_model_name": "LayoutModel",
            "justify_items": null,
            "grid_row": null,
            "max_height": null,
            "align_content": null,
            "visibility": null,
            "align_self": null,
            "height": null,
            "min_height": null,
            "padding": null,
            "grid_auto_rows": null,
            "grid_gap": null,
            "max_width": null,
            "order": null,
            "_view_module_version": "1.2.0",
            "grid_template_areas": null,
            "object_position": null,
            "object_fit": null,
            "grid_auto_columns": null,
            "margin": null,
            "display": null,
            "left": null
          }
        },
        "ab76681062234aa1a18f6ae93819e6d9": {
          "model_module": "@jupyter-widgets/controls",
          "model_name": "HTMLModel",
          "model_module_version": "1.5.0",
          "state": {
            "_view_name": "HTMLView",
            "style": "IPY_MODEL_0270137b70b3485393f816f44eee552a",
            "_dom_classes": [],
            "description": "",
            "_model_name": "HTMLModel",
            "placeholder": "​",
            "_view_module": "@jupyter-widgets/controls",
            "_model_module_version": "1.5.0",
            "value": "Downloading: 100%",
            "_view_count": null,
            "_view_module_version": "1.5.0",
            "description_tooltip": null,
            "_model_module": "@jupyter-widgets/controls",
            "layout": "IPY_MODEL_43e33a6801074f62a1e311f148a300e3"
          }
        },
        "2dd51cfb62c5491a844f252e29d3825d": {
          "model_module": "@jupyter-widgets/controls",
          "model_name": "FloatProgressModel",
          "model_module_version": "1.5.0",
          "state": {
            "_view_name": "ProgressView",
            "style": "IPY_MODEL_edfdc309981948dd87d38ff910801124",
            "_dom_classes": [],
            "description": "",
            "_model_name": "FloatProgressModel",
            "bar_style": "success",
            "max": 570,
            "_view_module": "@jupyter-widgets/controls",
            "_model_module_version": "1.5.0",
            "value": 570,
            "_view_count": null,
            "_view_module_version": "1.5.0",
            "orientation": "horizontal",
            "min": 0,
            "description_tooltip": null,
            "_model_module": "@jupyter-widgets/controls",
            "layout": "IPY_MODEL_362cbd67d00c494495e566c226616b20"
          }
        },
        "84a76eacb77e49e09998f6e3bca2ff2a": {
          "model_module": "@jupyter-widgets/controls",
          "model_name": "HTMLModel",
          "model_module_version": "1.5.0",
          "state": {
            "_view_name": "HTMLView",
            "style": "IPY_MODEL_35e58ace7e434b4fb5baa7547f64de99",
            "_dom_classes": [],
            "description": "",
            "_model_name": "HTMLModel",
            "placeholder": "​",
            "_view_module": "@jupyter-widgets/controls",
            "_model_module_version": "1.5.0",
            "value": " 570/570 [00:00&lt;00:00, 23.9kB/s]",
            "_view_count": null,
            "_view_module_version": "1.5.0",
            "description_tooltip": null,
            "_model_module": "@jupyter-widgets/controls",
            "layout": "IPY_MODEL_3389670135c64e69b5ebfde1555b3628"
          }
        },
        "0270137b70b3485393f816f44eee552a": {
          "model_module": "@jupyter-widgets/controls",
          "model_name": "DescriptionStyleModel",
          "model_module_version": "1.5.0",
          "state": {
            "_view_name": "StyleView",
            "_model_name": "DescriptionStyleModel",
            "description_width": "",
            "_view_module": "@jupyter-widgets/base",
            "_model_module_version": "1.5.0",
            "_view_count": null,
            "_view_module_version": "1.2.0",
            "_model_module": "@jupyter-widgets/controls"
          }
        },
        "43e33a6801074f62a1e311f148a300e3": {
          "model_module": "@jupyter-widgets/base",
          "model_name": "LayoutModel",
          "model_module_version": "1.2.0",
          "state": {
            "_view_name": "LayoutView",
            "grid_template_rows": null,
            "right": null,
            "justify_content": null,
            "_view_module": "@jupyter-widgets/base",
            "overflow": null,
            "_model_module_version": "1.2.0",
            "_view_count": null,
            "flex_flow": null,
            "width": null,
            "min_width": null,
            "border": null,
            "align_items": null,
            "bottom": null,
            "_model_module": "@jupyter-widgets/base",
            "top": null,
            "grid_column": null,
            "overflow_y": null,
            "overflow_x": null,
            "grid_auto_flow": null,
            "grid_area": null,
            "grid_template_columns": null,
            "flex": null,
            "_model_name": "LayoutModel",
            "justify_items": null,
            "grid_row": null,
            "max_height": null,
            "align_content": null,
            "visibility": null,
            "align_self": null,
            "height": null,
            "min_height": null,
            "padding": null,
            "grid_auto_rows": null,
            "grid_gap": null,
            "max_width": null,
            "order": null,
            "_view_module_version": "1.2.0",
            "grid_template_areas": null,
            "object_position": null,
            "object_fit": null,
            "grid_auto_columns": null,
            "margin": null,
            "display": null,
            "left": null
          }
        },
        "edfdc309981948dd87d38ff910801124": {
          "model_module": "@jupyter-widgets/controls",
          "model_name": "ProgressStyleModel",
          "model_module_version": "1.5.0",
          "state": {
            "_view_name": "StyleView",
            "_model_name": "ProgressStyleModel",
            "description_width": "",
            "_view_module": "@jupyter-widgets/base",
            "_model_module_version": "1.5.0",
            "_view_count": null,
            "_view_module_version": "1.2.0",
            "bar_color": null,
            "_model_module": "@jupyter-widgets/controls"
          }
        },
        "362cbd67d00c494495e566c226616b20": {
          "model_module": "@jupyter-widgets/base",
          "model_name": "LayoutModel",
          "model_module_version": "1.2.0",
          "state": {
            "_view_name": "LayoutView",
            "grid_template_rows": null,
            "right": null,
            "justify_content": null,
            "_view_module": "@jupyter-widgets/base",
            "overflow": null,
            "_model_module_version": "1.2.0",
            "_view_count": null,
            "flex_flow": null,
            "width": null,
            "min_width": null,
            "border": null,
            "align_items": null,
            "bottom": null,
            "_model_module": "@jupyter-widgets/base",
            "top": null,
            "grid_column": null,
            "overflow_y": null,
            "overflow_x": null,
            "grid_auto_flow": null,
            "grid_area": null,
            "grid_template_columns": null,
            "flex": null,
            "_model_name": "LayoutModel",
            "justify_items": null,
            "grid_row": null,
            "max_height": null,
            "align_content": null,
            "visibility": null,
            "align_self": null,
            "height": null,
            "min_height": null,
            "padding": null,
            "grid_auto_rows": null,
            "grid_gap": null,
            "max_width": null,
            "order": null,
            "_view_module_version": "1.2.0",
            "grid_template_areas": null,
            "object_position": null,
            "object_fit": null,
            "grid_auto_columns": null,
            "margin": null,
            "display": null,
            "left": null
          }
        },
        "35e58ace7e434b4fb5baa7547f64de99": {
          "model_module": "@jupyter-widgets/controls",
          "model_name": "DescriptionStyleModel",
          "model_module_version": "1.5.0",
          "state": {
            "_view_name": "StyleView",
            "_model_name": "DescriptionStyleModel",
            "description_width": "",
            "_view_module": "@jupyter-widgets/base",
            "_model_module_version": "1.5.0",
            "_view_count": null,
            "_view_module_version": "1.2.0",
            "_model_module": "@jupyter-widgets/controls"
          }
        },
        "3389670135c64e69b5ebfde1555b3628": {
          "model_module": "@jupyter-widgets/base",
          "model_name": "LayoutModel",
          "model_module_version": "1.2.0",
          "state": {
            "_view_name": "LayoutView",
            "grid_template_rows": null,
            "right": null,
            "justify_content": null,
            "_view_module": "@jupyter-widgets/base",
            "overflow": null,
            "_model_module_version": "1.2.0",
            "_view_count": null,
            "flex_flow": null,
            "width": null,
            "min_width": null,
            "border": null,
            "align_items": null,
            "bottom": null,
            "_model_module": "@jupyter-widgets/base",
            "top": null,
            "grid_column": null,
            "overflow_y": null,
            "overflow_x": null,
            "grid_auto_flow": null,
            "grid_area": null,
            "grid_template_columns": null,
            "flex": null,
            "_model_name": "LayoutModel",
            "justify_items": null,
            "grid_row": null,
            "max_height": null,
            "align_content": null,
            "visibility": null,
            "align_self": null,
            "height": null,
            "min_height": null,
            "padding": null,
            "grid_auto_rows": null,
            "grid_gap": null,
            "max_width": null,
            "order": null,
            "_view_module_version": "1.2.0",
            "grid_template_areas": null,
            "object_position": null,
            "object_fit": null,
            "grid_auto_columns": null,
            "margin": null,
            "display": null,
            "left": null
          }
        },
        "211785ffcdd04e4c92533a4006103894": {
          "model_module": "@jupyter-widgets/controls",
          "model_name": "HBoxModel",
          "model_module_version": "1.5.0",
          "state": {
            "_view_name": "HBoxView",
            "_dom_classes": [],
            "_model_name": "HBoxModel",
            "_view_module": "@jupyter-widgets/controls",
            "_model_module_version": "1.5.0",
            "_view_count": null,
            "_view_module_version": "1.5.0",
            "box_style": "",
            "layout": "IPY_MODEL_c3a70f09f333448bbd955fefe35ec69f",
            "_model_module": "@jupyter-widgets/controls",
            "children": [
              "IPY_MODEL_d2910971076342519b6f6acf442bfe7d",
              "IPY_MODEL_d01bd49ed48d4c599ae142701c964b95",
              "IPY_MODEL_37a2c5077fd14fd7b3f514820b0e288d"
            ]
          }
        },
        "c3a70f09f333448bbd955fefe35ec69f": {
          "model_module": "@jupyter-widgets/base",
          "model_name": "LayoutModel",
          "model_module_version": "1.2.0",
          "state": {
            "_view_name": "LayoutView",
            "grid_template_rows": null,
            "right": null,
            "justify_content": null,
            "_view_module": "@jupyter-widgets/base",
            "overflow": null,
            "_model_module_version": "1.2.0",
            "_view_count": null,
            "flex_flow": null,
            "width": null,
            "min_width": null,
            "border": null,
            "align_items": null,
            "bottom": null,
            "_model_module": "@jupyter-widgets/base",
            "top": null,
            "grid_column": null,
            "overflow_y": null,
            "overflow_x": null,
            "grid_auto_flow": null,
            "grid_area": null,
            "grid_template_columns": null,
            "flex": null,
            "_model_name": "LayoutModel",
            "justify_items": null,
            "grid_row": null,
            "max_height": null,
            "align_content": null,
            "visibility": null,
            "align_self": null,
            "height": null,
            "min_height": null,
            "padding": null,
            "grid_auto_rows": null,
            "grid_gap": null,
            "max_width": null,
            "order": null,
            "_view_module_version": "1.2.0",
            "grid_template_areas": null,
            "object_position": null,
            "object_fit": null,
            "grid_auto_columns": null,
            "margin": null,
            "display": null,
            "left": null
          }
        },
        "d2910971076342519b6f6acf442bfe7d": {
          "model_module": "@jupyter-widgets/controls",
          "model_name": "HTMLModel",
          "model_module_version": "1.5.0",
          "state": {
            "_view_name": "HTMLView",
            "style": "IPY_MODEL_3c372a27612f4f87a51b16438abd59bb",
            "_dom_classes": [],
            "description": "",
            "_model_name": "HTMLModel",
            "placeholder": "​",
            "_view_module": "@jupyter-widgets/controls",
            "_model_module_version": "1.5.0",
            "value": "Downloading: 100%",
            "_view_count": null,
            "_view_module_version": "1.5.0",
            "description_tooltip": null,
            "_model_module": "@jupyter-widgets/controls",
            "layout": "IPY_MODEL_1a83192f6c1a4fe4ad2ec2ab65490a22"
          }
        },
        "d01bd49ed48d4c599ae142701c964b95": {
          "model_module": "@jupyter-widgets/controls",
          "model_name": "FloatProgressModel",
          "model_module_version": "1.5.0",
          "state": {
            "_view_name": "ProgressView",
            "style": "IPY_MODEL_08cae930d30a4c0dbd6efc1253d61583",
            "_dom_classes": [],
            "description": "",
            "_model_name": "FloatProgressModel",
            "bar_style": "success",
            "max": 435779157,
            "_view_module": "@jupyter-widgets/controls",
            "_model_module_version": "1.5.0",
            "value": 435779157,
            "_view_count": null,
            "_view_module_version": "1.5.0",
            "orientation": "horizontal",
            "min": 0,
            "description_tooltip": null,
            "_model_module": "@jupyter-widgets/controls",
            "layout": "IPY_MODEL_c9dbf8f8328f4db6ab000019dc51eeb8"
          }
        },
        "37a2c5077fd14fd7b3f514820b0e288d": {
          "model_module": "@jupyter-widgets/controls",
          "model_name": "HTMLModel",
          "model_module_version": "1.5.0",
          "state": {
            "_view_name": "HTMLView",
            "style": "IPY_MODEL_3a3a02ee72264cb7a7c3cb4211586935",
            "_dom_classes": [],
            "description": "",
            "_model_name": "HTMLModel",
            "placeholder": "​",
            "_view_module": "@jupyter-widgets/controls",
            "_model_module_version": "1.5.0",
            "value": " 416M/416M [00:07&lt;00:00, 65.0MB/s]",
            "_view_count": null,
            "_view_module_version": "1.5.0",
            "description_tooltip": null,
            "_model_module": "@jupyter-widgets/controls",
            "layout": "IPY_MODEL_91c5ace7e370424a8a80beaf52f63782"
          }
        },
        "3c372a27612f4f87a51b16438abd59bb": {
          "model_module": "@jupyter-widgets/controls",
          "model_name": "DescriptionStyleModel",
          "model_module_version": "1.5.0",
          "state": {
            "_view_name": "StyleView",
            "_model_name": "DescriptionStyleModel",
            "description_width": "",
            "_view_module": "@jupyter-widgets/base",
            "_model_module_version": "1.5.0",
            "_view_count": null,
            "_view_module_version": "1.2.0",
            "_model_module": "@jupyter-widgets/controls"
          }
        },
        "1a83192f6c1a4fe4ad2ec2ab65490a22": {
          "model_module": "@jupyter-widgets/base",
          "model_name": "LayoutModel",
          "model_module_version": "1.2.0",
          "state": {
            "_view_name": "LayoutView",
            "grid_template_rows": null,
            "right": null,
            "justify_content": null,
            "_view_module": "@jupyter-widgets/base",
            "overflow": null,
            "_model_module_version": "1.2.0",
            "_view_count": null,
            "flex_flow": null,
            "width": null,
            "min_width": null,
            "border": null,
            "align_items": null,
            "bottom": null,
            "_model_module": "@jupyter-widgets/base",
            "top": null,
            "grid_column": null,
            "overflow_y": null,
            "overflow_x": null,
            "grid_auto_flow": null,
            "grid_area": null,
            "grid_template_columns": null,
            "flex": null,
            "_model_name": "LayoutModel",
            "justify_items": null,
            "grid_row": null,
            "max_height": null,
            "align_content": null,
            "visibility": null,
            "align_self": null,
            "height": null,
            "min_height": null,
            "padding": null,
            "grid_auto_rows": null,
            "grid_gap": null,
            "max_width": null,
            "order": null,
            "_view_module_version": "1.2.0",
            "grid_template_areas": null,
            "object_position": null,
            "object_fit": null,
            "grid_auto_columns": null,
            "margin": null,
            "display": null,
            "left": null
          }
        },
        "08cae930d30a4c0dbd6efc1253d61583": {
          "model_module": "@jupyter-widgets/controls",
          "model_name": "ProgressStyleModel",
          "model_module_version": "1.5.0",
          "state": {
            "_view_name": "StyleView",
            "_model_name": "ProgressStyleModel",
            "description_width": "",
            "_view_module": "@jupyter-widgets/base",
            "_model_module_version": "1.5.0",
            "_view_count": null,
            "_view_module_version": "1.2.0",
            "bar_color": null,
            "_model_module": "@jupyter-widgets/controls"
          }
        },
        "c9dbf8f8328f4db6ab000019dc51eeb8": {
          "model_module": "@jupyter-widgets/base",
          "model_name": "LayoutModel",
          "model_module_version": "1.2.0",
          "state": {
            "_view_name": "LayoutView",
            "grid_template_rows": null,
            "right": null,
            "justify_content": null,
            "_view_module": "@jupyter-widgets/base",
            "overflow": null,
            "_model_module_version": "1.2.0",
            "_view_count": null,
            "flex_flow": null,
            "width": null,
            "min_width": null,
            "border": null,
            "align_items": null,
            "bottom": null,
            "_model_module": "@jupyter-widgets/base",
            "top": null,
            "grid_column": null,
            "overflow_y": null,
            "overflow_x": null,
            "grid_auto_flow": null,
            "grid_area": null,
            "grid_template_columns": null,
            "flex": null,
            "_model_name": "LayoutModel",
            "justify_items": null,
            "grid_row": null,
            "max_height": null,
            "align_content": null,
            "visibility": null,
            "align_self": null,
            "height": null,
            "min_height": null,
            "padding": null,
            "grid_auto_rows": null,
            "grid_gap": null,
            "max_width": null,
            "order": null,
            "_view_module_version": "1.2.0",
            "grid_template_areas": null,
            "object_position": null,
            "object_fit": null,
            "grid_auto_columns": null,
            "margin": null,
            "display": null,
            "left": null
          }
        },
        "3a3a02ee72264cb7a7c3cb4211586935": {
          "model_module": "@jupyter-widgets/controls",
          "model_name": "DescriptionStyleModel",
          "model_module_version": "1.5.0",
          "state": {
            "_view_name": "StyleView",
            "_model_name": "DescriptionStyleModel",
            "description_width": "",
            "_view_module": "@jupyter-widgets/base",
            "_model_module_version": "1.5.0",
            "_view_count": null,
            "_view_module_version": "1.2.0",
            "_model_module": "@jupyter-widgets/controls"
          }
        },
        "91c5ace7e370424a8a80beaf52f63782": {
          "model_module": "@jupyter-widgets/base",
          "model_name": "LayoutModel",
          "model_module_version": "1.2.0",
          "state": {
            "_view_name": "LayoutView",
            "grid_template_rows": null,
            "right": null,
            "justify_content": null,
            "_view_module": "@jupyter-widgets/base",
            "overflow": null,
            "_model_module_version": "1.2.0",
            "_view_count": null,
            "flex_flow": null,
            "width": null,
            "min_width": null,
            "border": null,
            "align_items": null,
            "bottom": null,
            "_model_module": "@jupyter-widgets/base",
            "top": null,
            "grid_column": null,
            "overflow_y": null,
            "overflow_x": null,
            "grid_auto_flow": null,
            "grid_area": null,
            "grid_template_columns": null,
            "flex": null,
            "_model_name": "LayoutModel",
            "justify_items": null,
            "grid_row": null,
            "max_height": null,
            "align_content": null,
            "visibility": null,
            "align_self": null,
            "height": null,
            "min_height": null,
            "padding": null,
            "grid_auto_rows": null,
            "grid_gap": null,
            "max_width": null,
            "order": null,
            "_view_module_version": "1.2.0",
            "grid_template_areas": null,
            "object_position": null,
            "object_fit": null,
            "grid_auto_columns": null,
            "margin": null,
            "display": null,
            "left": null
          }
        }
      }
    }
  },
  "nbformat": 4,
  "nbformat_minor": 0
}