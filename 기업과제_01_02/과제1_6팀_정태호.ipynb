{
  "nbformat": 4,
  "nbformat_minor": 0,
  "metadata": {
    "colab": {
      "name": "Untitled152.ipynb",
      "provenance": []
    },
    "kernelspec": {
      "name": "python3",
      "display_name": "Python 3"
    },
    "language_info": {
      "name": "python"
    }
  },
  "cells": [
    {
      "cell_type": "code",
      "execution_count": 169,
      "metadata": {
        "id": "pDmQ0ZiGyF7R"
      },
      "outputs": [],
      "source": [
        "S=[\"aaa\",\"aaaabb\", \"aabbcc\", \"abb\", \"bcc\", \"bbcc\", \"aabbccdd\", \"aaabb\", \"cccd\"]\n",
        "W=[\"aaaabbaabbccdd\"]"
      ]
    },
    {
      "cell_type": "code",
      "source": [
        "def search(S,W):\n",
        "  buf=[0]*len(S)\n",
        "  for i in range(1,len(S)):\n",
        "    if S[buf[i-1]] == S[i]:\n",
        "      buf[i]=buf[i-1]+1\n",
        "\n",
        "  result=[]\n",
        "  S_itr=0\n",
        "  i=0\n",
        "  while i < len(W):\n",
        "    while S_itr > 0 and S[S_itr] != W[i]:\n",
        "      S_itr=buf[S_itr-1]\n",
        "    if S[S_itr] == W[i]:\n",
        "      S_itr+=1\n",
        "      i+=1\n",
        "      if S_itr==len(S):\n",
        "        result.append(i-(S_itr))\n",
        "        S_itr=buf[S_itr-1]\n",
        "    else:\n",
        "      i+=1\n",
        "    \n",
        "  return result"
      ],
      "metadata": {
        "id": "WcZJ1lCy1awq"
      },
      "execution_count": 164,
      "outputs": []
    },
    {
      "cell_type": "code",
      "source": [
        "result={}\n",
        "\n",
        "for s in S:\n",
        "  sub=[]\n",
        "  for w in W:\n",
        "    sub.append(search(s,w))\n",
        "  result[s]=sub"
      ],
      "metadata": {
        "id": "0nHsEZ1D2efA"
      },
      "execution_count": 170,
      "outputs": []
    },
    {
      "cell_type": "code",
      "source": [
        "#문제 1\n",
        "for n,w in enumerate(W):\n",
        "  print(f\"{w} :\",', '.join([\"YES\" if len(result[s][n]) else \"NO\" for s in S]))"
      ],
      "metadata": {
        "colab": {
          "base_uri": "https://localhost:8080/"
        },
        "id": "WJu7p3TaDNT2",
        "outputId": "e9032f56-337f-4388-ab20-b69a9eb1620c"
      },
      "execution_count": 171,
      "outputs": [
        {
          "output_type": "stream",
          "name": "stdout",
          "text": [
            "aaaabbaabbccdd : YES, YES, YES, YES, YES, YES, YES, YES, NO\n"
          ]
        }
      ]
    },
    {
      "cell_type": "code",
      "source": [
        "#문제 2\n",
        "for n,w in enumerate(W):\n",
        "  print(w)\n",
        "  for s in S:\n",
        "    if len(result[s][n]):\n",
        "      print(f\"#pos = {result[s][n][0]}, pattern = {s}\")"
      ],
      "metadata": {
        "colab": {
          "base_uri": "https://localhost:8080/"
        },
        "id": "I6dqSICmHGlw",
        "outputId": "cd7b7e55-17f2-4ce7-edfe-4290b68f6721"
      },
      "execution_count": 172,
      "outputs": [
        {
          "output_type": "stream",
          "name": "stdout",
          "text": [
            "aaaabbaabbccdd\n",
            "#pos = 0, pattern = aaa\n",
            "#pos = 0, pattern = aaaabb\n",
            "#pos = 6, pattern = aabbcc\n",
            "#pos = 3, pattern = abb\n",
            "#pos = 9, pattern = bcc\n",
            "#pos = 8, pattern = bbcc\n",
            "#pos = 6, pattern = aabbccdd\n",
            "#pos = 1, pattern = aaabb\n"
          ]
        }
      ]
    },
    {
      "cell_type": "code",
      "source": [
        "#문제 3\n",
        "for n,w in enumerate(W):\n",
        "  print(w)\n",
        "  for s in S:\n",
        "    if len(result[s][n]):\n",
        "      for q in result[s][n]:\n",
        "        print(f\"#pos = {q}, pattern = {s}\")"
      ],
      "metadata": {
        "colab": {
          "base_uri": "https://localhost:8080/"
        },
        "id": "BAzxXm6c_nVe",
        "outputId": "5a63b8e0-1af5-4465-c45d-5e1a2be7d5ec"
      },
      "execution_count": 173,
      "outputs": [
        {
          "output_type": "stream",
          "name": "stdout",
          "text": [
            "aaaabbaabbccdd\n",
            "#pos = 0, pattern = aaa\n",
            "#pos = 1, pattern = aaa\n",
            "#pos = 0, pattern = aaaabb\n",
            "#pos = 6, pattern = aabbcc\n",
            "#pos = 3, pattern = abb\n",
            "#pos = 7, pattern = abb\n",
            "#pos = 9, pattern = bcc\n",
            "#pos = 8, pattern = bbcc\n",
            "#pos = 6, pattern = aabbccdd\n",
            "#pos = 1, pattern = aaabb\n"
          ]
        }
      ]
    }
  ]
}